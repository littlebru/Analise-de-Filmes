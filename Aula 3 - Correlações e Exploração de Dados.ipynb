{
 "cells": [
  {
   "cell_type": "markdown",
   "metadata": {},
   "source": [
    "# Aula 03 - Quarentena Dados 🎲"
   ]
  },
  {
   "cell_type": "markdown",
   "metadata": {},
   "source": [
    "Fonte de Referência dos Dados - [Kaggle 5000 Movie Dataset](https://web.flow.opera.com/ext/v1/index.html)"
   ]
  },
  {
   "cell_type": "markdown",
   "metadata": {},
   "source": [
    "Vamos começar importando a nossa base de dados! Nessa aula iremos trabalhar com a IMBD 5000, base que contém uma série de informações sobre filmes, sendo uma pequena amostra da famosa base de dados [IMBD](https://www.imdb.com/)."
   ]
  },
  {
   "cell_type": "code",
   "execution_count": 2,
   "metadata": {},
   "outputs": [],
   "source": [
    "import pandas as pd"
   ]
  },
  {
   "cell_type": "code",
   "execution_count": 3,
   "metadata": {},
   "outputs": [
    {
     "data": {
      "text/html": [
       "<div>\n",
       "<style scoped>\n",
       "    .dataframe tbody tr th:only-of-type {\n",
       "        vertical-align: middle;\n",
       "    }\n",
       "\n",
       "    .dataframe tbody tr th {\n",
       "        vertical-align: top;\n",
       "    }\n",
       "\n",
       "    .dataframe thead th {\n",
       "        text-align: right;\n",
       "    }\n",
       "</style>\n",
       "<table border=\"1\" class=\"dataframe\">\n",
       "  <thead>\n",
       "    <tr style=\"text-align: right;\">\n",
       "      <th></th>\n",
       "      <th>color</th>\n",
       "      <th>director_name</th>\n",
       "      <th>num_critic_for_reviews</th>\n",
       "      <th>duration</th>\n",
       "      <th>director_facebook_likes</th>\n",
       "      <th>actor_3_facebook_likes</th>\n",
       "      <th>actor_2_name</th>\n",
       "      <th>actor_1_facebook_likes</th>\n",
       "      <th>gross</th>\n",
       "      <th>genres</th>\n",
       "      <th>...</th>\n",
       "      <th>num_user_for_reviews</th>\n",
       "      <th>language</th>\n",
       "      <th>country</th>\n",
       "      <th>content_rating</th>\n",
       "      <th>budget</th>\n",
       "      <th>title_year</th>\n",
       "      <th>actor_2_facebook_likes</th>\n",
       "      <th>imdb_score</th>\n",
       "      <th>aspect_ratio</th>\n",
       "      <th>movie_facebook_likes</th>\n",
       "    </tr>\n",
       "  </thead>\n",
       "  <tbody>\n",
       "    <tr>\n",
       "      <th>0</th>\n",
       "      <td>Color</td>\n",
       "      <td>James Cameron</td>\n",
       "      <td>723.0</td>\n",
       "      <td>178.0</td>\n",
       "      <td>0.0</td>\n",
       "      <td>855.0</td>\n",
       "      <td>Joel David Moore</td>\n",
       "      <td>1000.0</td>\n",
       "      <td>760505847.0</td>\n",
       "      <td>Action|Adventure|Fantasy|Sci-Fi</td>\n",
       "      <td>...</td>\n",
       "      <td>3054.0</td>\n",
       "      <td>English</td>\n",
       "      <td>USA</td>\n",
       "      <td>PG-13</td>\n",
       "      <td>237000000.0</td>\n",
       "      <td>2009.0</td>\n",
       "      <td>936.0</td>\n",
       "      <td>7.9</td>\n",
       "      <td>1.78</td>\n",
       "      <td>33000</td>\n",
       "    </tr>\n",
       "    <tr>\n",
       "      <th>1</th>\n",
       "      <td>Color</td>\n",
       "      <td>Gore Verbinski</td>\n",
       "      <td>302.0</td>\n",
       "      <td>169.0</td>\n",
       "      <td>563.0</td>\n",
       "      <td>1000.0</td>\n",
       "      <td>Orlando Bloom</td>\n",
       "      <td>40000.0</td>\n",
       "      <td>309404152.0</td>\n",
       "      <td>Action|Adventure|Fantasy</td>\n",
       "      <td>...</td>\n",
       "      <td>1238.0</td>\n",
       "      <td>English</td>\n",
       "      <td>USA</td>\n",
       "      <td>PG-13</td>\n",
       "      <td>300000000.0</td>\n",
       "      <td>2007.0</td>\n",
       "      <td>5000.0</td>\n",
       "      <td>7.1</td>\n",
       "      <td>2.35</td>\n",
       "      <td>0</td>\n",
       "    </tr>\n",
       "    <tr>\n",
       "      <th>2</th>\n",
       "      <td>Color</td>\n",
       "      <td>Sam Mendes</td>\n",
       "      <td>602.0</td>\n",
       "      <td>148.0</td>\n",
       "      <td>0.0</td>\n",
       "      <td>161.0</td>\n",
       "      <td>Rory Kinnear</td>\n",
       "      <td>11000.0</td>\n",
       "      <td>200074175.0</td>\n",
       "      <td>Action|Adventure|Thriller</td>\n",
       "      <td>...</td>\n",
       "      <td>994.0</td>\n",
       "      <td>English</td>\n",
       "      <td>UK</td>\n",
       "      <td>PG-13</td>\n",
       "      <td>245000000.0</td>\n",
       "      <td>2015.0</td>\n",
       "      <td>393.0</td>\n",
       "      <td>6.8</td>\n",
       "      <td>2.35</td>\n",
       "      <td>85000</td>\n",
       "    </tr>\n",
       "    <tr>\n",
       "      <th>3</th>\n",
       "      <td>Color</td>\n",
       "      <td>Christopher Nolan</td>\n",
       "      <td>813.0</td>\n",
       "      <td>164.0</td>\n",
       "      <td>22000.0</td>\n",
       "      <td>23000.0</td>\n",
       "      <td>Christian Bale</td>\n",
       "      <td>27000.0</td>\n",
       "      <td>448130642.0</td>\n",
       "      <td>Action|Thriller</td>\n",
       "      <td>...</td>\n",
       "      <td>2701.0</td>\n",
       "      <td>English</td>\n",
       "      <td>USA</td>\n",
       "      <td>PG-13</td>\n",
       "      <td>250000000.0</td>\n",
       "      <td>2012.0</td>\n",
       "      <td>23000.0</td>\n",
       "      <td>8.5</td>\n",
       "      <td>2.35</td>\n",
       "      <td>164000</td>\n",
       "    </tr>\n",
       "    <tr>\n",
       "      <th>4</th>\n",
       "      <td>NaN</td>\n",
       "      <td>Doug Walker</td>\n",
       "      <td>NaN</td>\n",
       "      <td>NaN</td>\n",
       "      <td>131.0</td>\n",
       "      <td>NaN</td>\n",
       "      <td>Rob Walker</td>\n",
       "      <td>131.0</td>\n",
       "      <td>NaN</td>\n",
       "      <td>Documentary</td>\n",
       "      <td>...</td>\n",
       "      <td>NaN</td>\n",
       "      <td>NaN</td>\n",
       "      <td>NaN</td>\n",
       "      <td>NaN</td>\n",
       "      <td>NaN</td>\n",
       "      <td>NaN</td>\n",
       "      <td>12.0</td>\n",
       "      <td>7.1</td>\n",
       "      <td>NaN</td>\n",
       "      <td>0</td>\n",
       "    </tr>\n",
       "  </tbody>\n",
       "</table>\n",
       "<p>5 rows × 28 columns</p>\n",
       "</div>"
      ],
      "text/plain": [
       "   color      director_name  num_critic_for_reviews  duration  \\\n",
       "0  Color      James Cameron                   723.0     178.0   \n",
       "1  Color     Gore Verbinski                   302.0     169.0   \n",
       "2  Color         Sam Mendes                   602.0     148.0   \n",
       "3  Color  Christopher Nolan                   813.0     164.0   \n",
       "4    NaN        Doug Walker                     NaN       NaN   \n",
       "\n",
       "   director_facebook_likes  actor_3_facebook_likes      actor_2_name  \\\n",
       "0                      0.0                   855.0  Joel David Moore   \n",
       "1                    563.0                  1000.0     Orlando Bloom   \n",
       "2                      0.0                   161.0      Rory Kinnear   \n",
       "3                  22000.0                 23000.0    Christian Bale   \n",
       "4                    131.0                     NaN        Rob Walker   \n",
       "\n",
       "   actor_1_facebook_likes        gross                           genres  ...  \\\n",
       "0                  1000.0  760505847.0  Action|Adventure|Fantasy|Sci-Fi  ...   \n",
       "1                 40000.0  309404152.0         Action|Adventure|Fantasy  ...   \n",
       "2                 11000.0  200074175.0        Action|Adventure|Thriller  ...   \n",
       "3                 27000.0  448130642.0                  Action|Thriller  ...   \n",
       "4                   131.0          NaN                      Documentary  ...   \n",
       "\n",
       "  num_user_for_reviews language  country  content_rating       budget  \\\n",
       "0               3054.0  English      USA           PG-13  237000000.0   \n",
       "1               1238.0  English      USA           PG-13  300000000.0   \n",
       "2                994.0  English       UK           PG-13  245000000.0   \n",
       "3               2701.0  English      USA           PG-13  250000000.0   \n",
       "4                  NaN      NaN      NaN             NaN          NaN   \n",
       "\n",
       "   title_year actor_2_facebook_likes imdb_score  aspect_ratio  \\\n",
       "0      2009.0                  936.0        7.9          1.78   \n",
       "1      2007.0                 5000.0        7.1          2.35   \n",
       "2      2015.0                  393.0        6.8          2.35   \n",
       "3      2012.0                23000.0        8.5          2.35   \n",
       "4         NaN                   12.0        7.1           NaN   \n",
       "\n",
       "  movie_facebook_likes  \n",
       "0                33000  \n",
       "1                    0  \n",
       "2                85000  \n",
       "3               164000  \n",
       "4                    0  \n",
       "\n",
       "[5 rows x 28 columns]"
      ]
     },
     "execution_count": 3,
     "metadata": {},
     "output_type": "execute_result"
    }
   ],
   "source": [
    "# lendo arquivo de dados do Kaggle IMDB 5000 Movie Dataset\n",
    "\n",
    "imdb = pd.read_csv(\"https://gist.githubusercontent.com/littlebru/f0c432ea5204715b37b85561e9afaeae/raw/50c46a2f36d2c549230d505a68fbc47b5de54e0e/movie_metadata.csv\")\n",
    "imdb.head()"
   ]
  },
  {
   "cell_type": "markdown",
   "metadata": {},
   "source": [
    "---\n",
    "Esta nova tabela possui muitas colunas, a coluna que mais chamou a tenção foi a ``color``.\n",
    "\n",
    "Vamos explora-la e descobrir quais são os valores existentes nela."
   ]
  },
  {
   "cell_type": "code",
   "execution_count": 5,
   "metadata": {},
   "outputs": [
    {
     "name": "stdout",
     "output_type": "stream",
     "text": [
      "['Color' nan ' Black and White']\n"
     ]
    }
   ],
   "source": [
    "# Valores unicos existentes na coluna 'color'\n",
    "print(imdb['color'].unique())"
   ]
  },
  {
   "cell_type": "markdown",
   "metadata": {},
   "source": [
    "Verificamos que essa coluna color informa se o filme é ``colorido`` ou é ``preto e branco``.\n",
    "\n",
    "Vamos descobrir agora quantos filmes de cada tipo nós temos:\n",
    "\n",
    "---"
   ]
  },
  {
   "cell_type": "code",
   "execution_count": 9,
   "metadata": {},
   "outputs": [
    {
     "data": {
      "text/plain": [
       "Color               0.9584\n",
       " Black and White    0.0416\n",
       "Name: color, dtype: float64"
      ]
     },
     "execution_count": 9,
     "metadata": {},
     "output_type": "execute_result"
    }
   ],
   "source": [
    "# Contagem de filmes com cores em porcentagem\n",
    "# Ai abaixo ele contou apenas os tipos 'Black and White' e 'Color' com 4% e 95% respectivamente\n",
    "\n",
    "imdb['color'].value_counts(normalize=True)"
   ]
  },
  {
   "cell_type": "markdown",
   "metadata": {},
   "source": [
    "Agora já descobrimos quantos filmes coloridos e preto e branco temos, e também sabemos que há mais de 5000 filmes na base.\n",
    "\n",
    "---"
   ]
  },
  {
   "cell_type": "markdown",
   "metadata": {},
   "source": [
    "Fizemos algo novo, que foi chamar o ``value_counts()``, passando o parâmetro ``normalize`` como ``True``.\n",
    "\n",
    "Desse modo, já calculamos qual é a participação de cada um dos tipos de filmes **(95% são filmes coloridos)**.\n",
    "\n",
    "🎬 Agora vamos explorar outra coluna a fim de conhecer os diretores que tem mais filmes na nossa base de dados\n",
    "\n",
    "**(lembrando que nossa base é uma amostra muito pequena da realidade)**"
   ]
  },
  {
   "cell_type": "code",
   "execution_count": 13,
   "metadata": {},
   "outputs": [
    {
     "data": {
      "text/plain": [
       "0         James Cameron\n",
       "1        Gore Verbinski\n",
       "2            Sam Mendes\n",
       "3     Christopher Nolan\n",
       "4           Doug Walker\n",
       "5        Andrew Stanton\n",
       "6             Sam Raimi\n",
       "7          Nathan Greno\n",
       "8           Joss Whedon\n",
       "9           David Yates\n",
       "10          Zack Snyder\n",
       "11         Bryan Singer\n",
       "12         Marc Forster\n",
       "13       Gore Verbinski\n",
       "14       Gore Verbinski\n",
       "Name: director_name, dtype: object"
      ]
     },
     "execution_count": 13,
     "metadata": {},
     "output_type": "execute_result"
    }
   ],
   "source": [
    "# Imprimindo diretores por linha (index, nome diretor) apenas os 15 primeiros\n",
    "\n",
    "imdb['director_name'].head(15)"
   ]
  },
  {
   "cell_type": "code",
   "execution_count": 10,
   "metadata": {},
   "outputs": [
    {
     "data": {
      "text/plain": [
       "Steven Spielberg     26\n",
       "Woody Allen          22\n",
       "Clint Eastwood       20\n",
       "Martin Scorsese      20\n",
       "Ridley Scott         17\n",
       "Spike Lee            16\n",
       "Tim Burton           16\n",
       "Steven Soderbergh    16\n",
       "Renny Harlin         15\n",
       "Oliver Stone         14\n",
       "Robert Rodriguez     13\n",
       "Barry Levinson       13\n",
       "Sam Raimi            13\n",
       "Robert Zemeckis      13\n",
       "Ron Howard           13\n",
       "Name: director_name, dtype: int64"
      ]
     },
     "execution_count": 10,
     "metadata": {},
     "output_type": "execute_result"
    }
   ],
   "source": [
    "# Quantos filmes cada diretor tem a base de dados(Apenas os 15 primeiros)\n",
    "\n",
    "imdb['director_name'].value_counts().head(15)"
   ]
  },
  {
   "cell_type": "markdown",
   "metadata": {},
   "source": [
    "**Steven Spielberg** e **Woody Allen** são os diretores com mais filmes no IMDB 5000.\n",
    "\n",
    "Continuando com nossa exploração de algumas informações, vamos olhar para o número de críticas por filmes."
   ]
  },
  {
   "cell_type": "code",
   "execution_count": 11,
   "metadata": {},
   "outputs": [
    {
     "data": {
      "text/plain": [
       "0     723.0\n",
       "1     302.0\n",
       "2     602.0\n",
       "3     813.0\n",
       "4       NaN\n",
       "5     462.0\n",
       "6     392.0\n",
       "7     324.0\n",
       "8     635.0\n",
       "9     375.0\n",
       "10    673.0\n",
       "11    434.0\n",
       "12    403.0\n",
       "13    313.0\n",
       "14    450.0\n",
       "Name: num_critic_for_reviews, dtype: float64"
      ]
     },
     "execution_count": 11,
     "metadata": {},
     "output_type": "execute_result"
    }
   ],
   "source": [
    "# Numero de criticas para revisão (Apenas os 15 primeiros)\n",
    "\n",
    "imdb['num_critic_for_reviews'].head(15)"
   ]
  },
  {
   "cell_type": "markdown",
   "metadata": {},
   "source": [
    "---\n",
    "Veja que as colunas ``color`` e ``director_name`` são strings, não fazendo sentido olhar para **médias**, **medianas** e afins. \n",
    "\n",
    "Olhar para o número de avaliações já pode ser interessante, por isso usamos o ``.describe()``."
   ]
  },
  {
   "cell_type": "code",
   "execution_count": 14,
   "metadata": {},
   "outputs": [
    {
     "data": {
      "text/plain": [
       "count    4993.000000\n",
       "mean      140.194272\n",
       "std       121.601675\n",
       "min         1.000000\n",
       "25%        50.000000\n",
       "50%       110.000000\n",
       "75%       195.000000\n",
       "max       813.000000\n",
       "Name: num_critic_for_reviews, dtype: float64"
      ]
     },
     "execution_count": 14,
     "metadata": {},
     "output_type": "execute_result"
    }
   ],
   "source": [
    "imdb[\"num_critic_for_reviews\"].describe()"
   ]
  },
  {
   "cell_type": "markdown",
   "metadata": {},
   "source": [
    "## Plotando histograma dos dados\n",
    "\n",
    "Agora podemos plotar um histograma para avaliar o número de review"
   ]
  },
  {
   "cell_type": "code",
   "execution_count": 16,
   "metadata": {},
   "outputs": [
    {
     "data": {
      "text/plain": [
       "<matplotlib.axes._subplots.AxesSubplot at 0xf0231b0>"
      ]
     },
     "execution_count": 16,
     "metadata": {},
     "output_type": "execute_result"
    },
    {
     "data": {
      "image/png": "[encoded data removed]",
      "text/plain": [
       "<Figure size 432x288 with 1 Axes>"
      ]
     },
     "metadata": {},
     "output_type": "display_data"
    }
   ],
   "source": [
    "# Imprimindo um histograma das informações da coluna de criticas\n",
    "\n",
    "import seaborn as sns\n",
    "\n",
    "sns.set_style(\"whitegrid\")\n",
    "imdb[\"num_critic_for_reviews\"].plot(kind='hist',\n",
    "                                   title ='Numero de críticas por revisão' )"
   ]
  },
  {
   "cell_type": "markdown",
   "metadata": {},
   "source": [
    "Logo, pelo histograma fica evidente que poucos filmes fazem muito muito sucesso. Claro que não conseguimos afirmar isso com propriedade, pois, novamente, estamos lidando com um número restrito de dados, mas são pontos interessantes de se pensar."
   ]
  },
  {
   "cell_type": "markdown",
   "metadata": {},
   "source": [
    "---\n",
    "Outra informação interessante de se analisar, são os orçamentos e receitas de um filme, ou seja o aspecto financeiro. Vamos começar pelo gross:"
   ]
  },
  {
   "cell_type": "code",
   "execution_count": 17,
   "metadata": {},
   "outputs": [
    {
     "data": {
      "text/plain": [
       "<matplotlib.axes._subplots.AxesSubplot at 0xf0765b0>"
      ]
     },
     "execution_count": 17,
     "metadata": {},
     "output_type": "execute_result"
    },
    {
     "data": {
      "image/png": "[encoded data removed]",
      "text/plain": [
       "<Figure size 432x288 with 1 Axes>"
      ]
     },
     "metadata": {},
     "output_type": "display_data"
    }
   ],
   "source": [
    "# Imprimindo um histograma das informações da coluna 'gross' (faturamento do filme)\n",
    "\n",
    "imdb['gross'].hist()"
   ]
  },
  {
   "cell_type": "code",
   "execution_count": 18,
   "metadata": {},
   "outputs": [
    {
     "data": {
      "text/plain": [
       "<matplotlib.axes._subplots.AxesSubplot at 0x5416b50>"
      ]
     },
     "execution_count": 18,
     "metadata": {},
     "output_type": "execute_result"
    },
    {
     "data": {
      "image/png": "[encoded data removed]",
      "text/plain": [
       "<Figure size 432x288 with 1 Axes>"
      ]
     },
     "metadata": {},
     "output_type": "display_data"
    }
   ],
   "source": [
    "# Imprimindo as mesma infomações anteriores da coluna 'gross' (faturamento do filme)\n",
    "# Porém com a biblioteca seaborn\n",
    "# Removendo valores Nan (Not a Number)\n",
    "\n",
    "import seaborn as sns\n",
    "\n",
    "sns.distplot(imdb['gross'].dropna())"
   ]
  },
  {
   "cell_type": "markdown",
   "metadata": {},
   "source": [
    "Como você deve ter reparado, essa é a primeira vez que as escalas estão totalmente diferentes, pois no eixo X temos valores tão altos que a escala teve que ser de centena de milhões.\n",
    "\n",
    "---\n",
    "Veja como pouquíssimos filmes tem alto faturamento, o que nos acende um primeiro alerta de que tem algo estranho (ou temos filmes que rendem muito dinheiro neste dataset).\n",
    "\n",
    "💰 Vamos tentar conhecer quais são esses filmes com faturamento astronômico."
   ]
  },
  {
   "cell_type": "code",
   "execution_count": 19,
   "metadata": {},
   "outputs": [
    {
     "data": {
      "text/html": [
       "<div>\n",
       "<style scoped>\n",
       "    .dataframe tbody tr th:only-of-type {\n",
       "        vertical-align: middle;\n",
       "    }\n",
       "\n",
       "    .dataframe tbody tr th {\n",
       "        vertical-align: top;\n",
       "    }\n",
       "\n",
       "    .dataframe thead th {\n",
       "        text-align: right;\n",
       "    }\n",
       "</style>\n",
       "<table border=\"1\" class=\"dataframe\">\n",
       "  <thead>\n",
       "    <tr style=\"text-align: right;\">\n",
       "      <th></th>\n",
       "      <th>color</th>\n",
       "      <th>director_name</th>\n",
       "      <th>num_critic_for_reviews</th>\n",
       "      <th>duration</th>\n",
       "      <th>director_facebook_likes</th>\n",
       "      <th>actor_3_facebook_likes</th>\n",
       "      <th>actor_2_name</th>\n",
       "      <th>actor_1_facebook_likes</th>\n",
       "      <th>gross</th>\n",
       "      <th>genres</th>\n",
       "      <th>...</th>\n",
       "      <th>num_user_for_reviews</th>\n",
       "      <th>language</th>\n",
       "      <th>country</th>\n",
       "      <th>content_rating</th>\n",
       "      <th>budget</th>\n",
       "      <th>title_year</th>\n",
       "      <th>actor_2_facebook_likes</th>\n",
       "      <th>imdb_score</th>\n",
       "      <th>aspect_ratio</th>\n",
       "      <th>movie_facebook_likes</th>\n",
       "    </tr>\n",
       "  </thead>\n",
       "  <tbody>\n",
       "    <tr>\n",
       "      <th>0</th>\n",
       "      <td>Color</td>\n",
       "      <td>James Cameron</td>\n",
       "      <td>723.0</td>\n",
       "      <td>178.0</td>\n",
       "      <td>0.0</td>\n",
       "      <td>855.0</td>\n",
       "      <td>Joel David Moore</td>\n",
       "      <td>1000.0</td>\n",
       "      <td>760505847.0</td>\n",
       "      <td>Action|Adventure|Fantasy|Sci-Fi</td>\n",
       "      <td>...</td>\n",
       "      <td>3054.0</td>\n",
       "      <td>English</td>\n",
       "      <td>USA</td>\n",
       "      <td>PG-13</td>\n",
       "      <td>237000000.0</td>\n",
       "      <td>2009.0</td>\n",
       "      <td>936.0</td>\n",
       "      <td>7.9</td>\n",
       "      <td>1.78</td>\n",
       "      <td>33000</td>\n",
       "    </tr>\n",
       "    <tr>\n",
       "      <th>26</th>\n",
       "      <td>Color</td>\n",
       "      <td>James Cameron</td>\n",
       "      <td>315.0</td>\n",
       "      <td>194.0</td>\n",
       "      <td>0.0</td>\n",
       "      <td>794.0</td>\n",
       "      <td>Kate Winslet</td>\n",
       "      <td>29000.0</td>\n",
       "      <td>658672302.0</td>\n",
       "      <td>Drama|Romance</td>\n",
       "      <td>...</td>\n",
       "      <td>2528.0</td>\n",
       "      <td>English</td>\n",
       "      <td>USA</td>\n",
       "      <td>PG-13</td>\n",
       "      <td>200000000.0</td>\n",
       "      <td>1997.0</td>\n",
       "      <td>14000.0</td>\n",
       "      <td>7.7</td>\n",
       "      <td>2.35</td>\n",
       "      <td>26000</td>\n",
       "    </tr>\n",
       "    <tr>\n",
       "      <th>29</th>\n",
       "      <td>Color</td>\n",
       "      <td>Colin Trevorrow</td>\n",
       "      <td>644.0</td>\n",
       "      <td>124.0</td>\n",
       "      <td>365.0</td>\n",
       "      <td>1000.0</td>\n",
       "      <td>Judy Greer</td>\n",
       "      <td>3000.0</td>\n",
       "      <td>652177271.0</td>\n",
       "      <td>Action|Adventure|Sci-Fi|Thriller</td>\n",
       "      <td>...</td>\n",
       "      <td>1290.0</td>\n",
       "      <td>English</td>\n",
       "      <td>USA</td>\n",
       "      <td>PG-13</td>\n",
       "      <td>150000000.0</td>\n",
       "      <td>2015.0</td>\n",
       "      <td>2000.0</td>\n",
       "      <td>7.0</td>\n",
       "      <td>2.00</td>\n",
       "      <td>150000</td>\n",
       "    </tr>\n",
       "    <tr>\n",
       "      <th>794</th>\n",
       "      <td>Color</td>\n",
       "      <td>Joss Whedon</td>\n",
       "      <td>703.0</td>\n",
       "      <td>173.0</td>\n",
       "      <td>0.0</td>\n",
       "      <td>19000.0</td>\n",
       "      <td>Robert Downey Jr.</td>\n",
       "      <td>26000.0</td>\n",
       "      <td>623279547.0</td>\n",
       "      <td>Action|Adventure|Sci-Fi</td>\n",
       "      <td>...</td>\n",
       "      <td>1722.0</td>\n",
       "      <td>English</td>\n",
       "      <td>USA</td>\n",
       "      <td>PG-13</td>\n",
       "      <td>220000000.0</td>\n",
       "      <td>2012.0</td>\n",
       "      <td>21000.0</td>\n",
       "      <td>8.1</td>\n",
       "      <td>1.85</td>\n",
       "      <td>123000</td>\n",
       "    </tr>\n",
       "    <tr>\n",
       "      <th>17</th>\n",
       "      <td>Color</td>\n",
       "      <td>Joss Whedon</td>\n",
       "      <td>703.0</td>\n",
       "      <td>173.0</td>\n",
       "      <td>0.0</td>\n",
       "      <td>19000.0</td>\n",
       "      <td>Robert Downey Jr.</td>\n",
       "      <td>26000.0</td>\n",
       "      <td>623279547.0</td>\n",
       "      <td>Action|Adventure|Sci-Fi</td>\n",
       "      <td>...</td>\n",
       "      <td>1722.0</td>\n",
       "      <td>English</td>\n",
       "      <td>USA</td>\n",
       "      <td>PG-13</td>\n",
       "      <td>220000000.0</td>\n",
       "      <td>2012.0</td>\n",
       "      <td>21000.0</td>\n",
       "      <td>8.1</td>\n",
       "      <td>1.85</td>\n",
       "      <td>123000</td>\n",
       "    </tr>\n",
       "  </tbody>\n",
       "</table>\n",
       "<p>5 rows × 28 columns</p>\n",
       "</div>"
      ],
      "text/plain": [
       "     color    director_name  num_critic_for_reviews  duration  \\\n",
       "0    Color    James Cameron                   723.0     178.0   \n",
       "26   Color    James Cameron                   315.0     194.0   \n",
       "29   Color  Colin Trevorrow                   644.0     124.0   \n",
       "794  Color      Joss Whedon                   703.0     173.0   \n",
       "17   Color      Joss Whedon                   703.0     173.0   \n",
       "\n",
       "     director_facebook_likes  actor_3_facebook_likes       actor_2_name  \\\n",
       "0                        0.0                   855.0   Joel David Moore   \n",
       "26                       0.0                   794.0       Kate Winslet   \n",
       "29                     365.0                  1000.0         Judy Greer   \n",
       "794                      0.0                 19000.0  Robert Downey Jr.   \n",
       "17                       0.0                 19000.0  Robert Downey Jr.   \n",
       "\n",
       "     actor_1_facebook_likes        gross                            genres  \\\n",
       "0                    1000.0  760505847.0   Action|Adventure|Fantasy|Sci-Fi   \n",
       "26                  29000.0  658672302.0                     Drama|Romance   \n",
       "29                   3000.0  652177271.0  Action|Adventure|Sci-Fi|Thriller   \n",
       "794                 26000.0  623279547.0           Action|Adventure|Sci-Fi   \n",
       "17                  26000.0  623279547.0           Action|Adventure|Sci-Fi   \n",
       "\n",
       "     ... num_user_for_reviews language  country  content_rating       budget  \\\n",
       "0    ...               3054.0  English      USA           PG-13  237000000.0   \n",
       "26   ...               2528.0  English      USA           PG-13  200000000.0   \n",
       "29   ...               1290.0  English      USA           PG-13  150000000.0   \n",
       "794  ...               1722.0  English      USA           PG-13  220000000.0   \n",
       "17   ...               1722.0  English      USA           PG-13  220000000.0   \n",
       "\n",
       "     title_year actor_2_facebook_likes imdb_score  aspect_ratio  \\\n",
       "0        2009.0                  936.0        7.9          1.78   \n",
       "26       1997.0                14000.0        7.7          2.35   \n",
       "29       2015.0                 2000.0        7.0          2.00   \n",
       "794      2012.0                21000.0        8.1          1.85   \n",
       "17       2012.0                21000.0        8.1          1.85   \n",
       "\n",
       "    movie_facebook_likes  \n",
       "0                  33000  \n",
       "26                 26000  \n",
       "29                150000  \n",
       "794               123000  \n",
       "17                123000  \n",
       "\n",
       "[5 rows x 28 columns]"
      ]
     },
     "execution_count": 19,
     "metadata": {},
     "output_type": "execute_result"
    }
   ],
   "source": [
    "imdb.sort_values(\"gross\", ascending=False).head()"
   ]
  },
  {
   "cell_type": "markdown",
   "metadata": {},
   "source": [
    "Nessa lista temos Avatar, Titanic, Jurassic World e The Avengers, o que parece fazer sentido para nós, pois sabemos que esses foram filmes com bilheterias gigantescas. \n",
    "\n",
    "Analisando esses dados conseguimos verificar que os maiores faturamentos fazem sentido, mas encontramos um problema nos dados, dado que encontramos duas linhas diplicadas."
   ]
  },
  {
   "cell_type": "markdown",
   "metadata": {},
   "source": [
    "---\n",
    "Podemos usar o pandas para remover esses dados, mas por enquanto vamos manter todas as informações (Se estiver curioso em saber como se faz, consulte o ``.drop_duplicates()``).\n",
    "\n"
   ]
  },
  {
   "cell_type": "code",
   "execution_count": 20,
   "metadata": {},
   "outputs": [],
   "source": [
    "# Removendo duplicatas dentro da tabela com drop_duplicates (do Pandas)\n",
    "\n",
    "imdb = imdb.drop_duplicates()"
   ]
  },
  {
   "cell_type": "markdown",
   "metadata": {},
   "source": [
    "---\n",
    "## ➕Adicionando uma coluna no dataset\n",
    "\n",
    "Maravilha, agora temos o faturamento e parece estar OK. Queremos começar a responder algumas perguntas e uma delas é: será que filmes coloridos tem faturamento maior que filmes preto e branco?\n",
    "\n",
    "Para começar a responder esta pergunta percisamos transformas a coluna Color:"
   ]
  },
  {
   "cell_type": "code",
   "execution_count": 21,
   "metadata": {},
   "outputs": [
    {
     "data": {
      "text/plain": [
       "4979"
      ]
     },
     "execution_count": 21,
     "metadata": {},
     "output_type": "execute_result"
    }
   ],
   "source": [
    " # Quantidade de filmes 'Color' e 'Black and White' ('Coloridos' e 'Preto e Branco')\n",
    "\n",
    "color_or_bw = imdb.query(\"color in['Color',' Black and White']\")\n",
    "len(color_or_bw)"
   ]
  },
  {
   "cell_type": "code",
   "execution_count": 60,
   "metadata": {},
   "outputs": [
    {
     "name": "stderr",
     "output_type": "stream",
     "text": [
      "c:\\users\\anapaula\\appdata\\local\\programs\\python\\python37-32\\lib\\site-packages\\ipykernel_launcher.py:6: SettingWithCopyWarning: \n",
      "A value is trying to be set on a copy of a slice from a DataFrame.\n",
      "Try using .loc[row_indexer,col_indexer] = value instead\n",
      "\n",
      "See the caveats in the documentation: http://pandas.pydata.org/pandas-docs/stable/indexing.html#indexing-view-versus-copy\n",
      "  \n"
     ]
    },
    {
     "data": {
      "text/html": [
       "<div>\n",
       "<style scoped>\n",
       "    .dataframe tbody tr th:only-of-type {\n",
       "        vertical-align: middle;\n",
       "    }\n",
       "\n",
       "    .dataframe tbody tr th {\n",
       "        vertical-align: top;\n",
       "    }\n",
       "\n",
       "    .dataframe thead th {\n",
       "        text-align: right;\n",
       "    }\n",
       "</style>\n",
       "<table border=\"1\" class=\"dataframe\">\n",
       "  <thead>\n",
       "    <tr style=\"text-align: right;\">\n",
       "      <th></th>\n",
       "      <th>color</th>\n",
       "      <th>director_name</th>\n",
       "      <th>num_critic_for_reviews</th>\n",
       "      <th>duration</th>\n",
       "      <th>director_facebook_likes</th>\n",
       "      <th>actor_3_facebook_likes</th>\n",
       "      <th>actor_2_name</th>\n",
       "      <th>actor_1_facebook_likes</th>\n",
       "      <th>gross</th>\n",
       "      <th>genres</th>\n",
       "      <th>...</th>\n",
       "      <th>language</th>\n",
       "      <th>country</th>\n",
       "      <th>content_rating</th>\n",
       "      <th>budget</th>\n",
       "      <th>title_year</th>\n",
       "      <th>actor_2_facebook_likes</th>\n",
       "      <th>imdb_score</th>\n",
       "      <th>aspect_ratio</th>\n",
       "      <th>movie_facebook_likes</th>\n",
       "      <th>color_0_ou_1</th>\n",
       "    </tr>\n",
       "  </thead>\n",
       "  <tbody>\n",
       "    <tr>\n",
       "      <th>0</th>\n",
       "      <td>Color</td>\n",
       "      <td>James Cameron</td>\n",
       "      <td>723.0</td>\n",
       "      <td>178.0</td>\n",
       "      <td>0.0</td>\n",
       "      <td>855.0</td>\n",
       "      <td>Joel David Moore</td>\n",
       "      <td>1000.0</td>\n",
       "      <td>760505847.0</td>\n",
       "      <td>Action|Adventure|Fantasy|Sci-Fi</td>\n",
       "      <td>...</td>\n",
       "      <td>English</td>\n",
       "      <td>USA</td>\n",
       "      <td>PG-13</td>\n",
       "      <td>237000000.0</td>\n",
       "      <td>2009.0</td>\n",
       "      <td>936.0</td>\n",
       "      <td>7.9</td>\n",
       "      <td>1.78</td>\n",
       "      <td>33000</td>\n",
       "      <td>1</td>\n",
       "    </tr>\n",
       "    <tr>\n",
       "      <th>1</th>\n",
       "      <td>Color</td>\n",
       "      <td>Gore Verbinski</td>\n",
       "      <td>302.0</td>\n",
       "      <td>169.0</td>\n",
       "      <td>563.0</td>\n",
       "      <td>1000.0</td>\n",
       "      <td>Orlando Bloom</td>\n",
       "      <td>40000.0</td>\n",
       "      <td>309404152.0</td>\n",
       "      <td>Action|Adventure|Fantasy</td>\n",
       "      <td>...</td>\n",
       "      <td>English</td>\n",
       "      <td>USA</td>\n",
       "      <td>PG-13</td>\n",
       "      <td>300000000.0</td>\n",
       "      <td>2007.0</td>\n",
       "      <td>5000.0</td>\n",
       "      <td>7.1</td>\n",
       "      <td>2.35</td>\n",
       "      <td>0</td>\n",
       "      <td>1</td>\n",
       "    </tr>\n",
       "    <tr>\n",
       "      <th>2</th>\n",
       "      <td>Color</td>\n",
       "      <td>Sam Mendes</td>\n",
       "      <td>602.0</td>\n",
       "      <td>148.0</td>\n",
       "      <td>0.0</td>\n",
       "      <td>161.0</td>\n",
       "      <td>Rory Kinnear</td>\n",
       "      <td>11000.0</td>\n",
       "      <td>200074175.0</td>\n",
       "      <td>Action|Adventure|Thriller</td>\n",
       "      <td>...</td>\n",
       "      <td>English</td>\n",
       "      <td>UK</td>\n",
       "      <td>PG-13</td>\n",
       "      <td>245000000.0</td>\n",
       "      <td>2015.0</td>\n",
       "      <td>393.0</td>\n",
       "      <td>6.8</td>\n",
       "      <td>2.35</td>\n",
       "      <td>85000</td>\n",
       "      <td>1</td>\n",
       "    </tr>\n",
       "    <tr>\n",
       "      <th>3</th>\n",
       "      <td>Color</td>\n",
       "      <td>Christopher Nolan</td>\n",
       "      <td>813.0</td>\n",
       "      <td>164.0</td>\n",
       "      <td>22000.0</td>\n",
       "      <td>23000.0</td>\n",
       "      <td>Christian Bale</td>\n",
       "      <td>27000.0</td>\n",
       "      <td>448130642.0</td>\n",
       "      <td>Action|Thriller</td>\n",
       "      <td>...</td>\n",
       "      <td>English</td>\n",
       "      <td>USA</td>\n",
       "      <td>PG-13</td>\n",
       "      <td>250000000.0</td>\n",
       "      <td>2012.0</td>\n",
       "      <td>23000.0</td>\n",
       "      <td>8.5</td>\n",
       "      <td>2.35</td>\n",
       "      <td>164000</td>\n",
       "      <td>1</td>\n",
       "    </tr>\n",
       "    <tr>\n",
       "      <th>5</th>\n",
       "      <td>Color</td>\n",
       "      <td>Andrew Stanton</td>\n",
       "      <td>462.0</td>\n",
       "      <td>132.0</td>\n",
       "      <td>475.0</td>\n",
       "      <td>530.0</td>\n",
       "      <td>Samantha Morton</td>\n",
       "      <td>640.0</td>\n",
       "      <td>73058679.0</td>\n",
       "      <td>Action|Adventure|Sci-Fi</td>\n",
       "      <td>...</td>\n",
       "      <td>English</td>\n",
       "      <td>USA</td>\n",
       "      <td>PG-13</td>\n",
       "      <td>263700000.0</td>\n",
       "      <td>2012.0</td>\n",
       "      <td>632.0</td>\n",
       "      <td>6.6</td>\n",
       "      <td>2.35</td>\n",
       "      <td>24000</td>\n",
       "      <td>1</td>\n",
       "    </tr>\n",
       "  </tbody>\n",
       "</table>\n",
       "<p>5 rows × 29 columns</p>\n",
       "</div>"
      ],
      "text/plain": [
       "   color      director_name  num_critic_for_reviews  duration  \\\n",
       "0  Color      James Cameron                   723.0     178.0   \n",
       "1  Color     Gore Verbinski                   302.0     169.0   \n",
       "2  Color         Sam Mendes                   602.0     148.0   \n",
       "3  Color  Christopher Nolan                   813.0     164.0   \n",
       "5  Color     Andrew Stanton                   462.0     132.0   \n",
       "\n",
       "   director_facebook_likes  actor_3_facebook_likes      actor_2_name  \\\n",
       "0                      0.0                   855.0  Joel David Moore   \n",
       "1                    563.0                  1000.0     Orlando Bloom   \n",
       "2                      0.0                   161.0      Rory Kinnear   \n",
       "3                  22000.0                 23000.0    Christian Bale   \n",
       "5                    475.0                   530.0   Samantha Morton   \n",
       "\n",
       "   actor_1_facebook_likes        gross                           genres  ...  \\\n",
       "0                  1000.0  760505847.0  Action|Adventure|Fantasy|Sci-Fi  ...   \n",
       "1                 40000.0  309404152.0         Action|Adventure|Fantasy  ...   \n",
       "2                 11000.0  200074175.0        Action|Adventure|Thriller  ...   \n",
       "3                 27000.0  448130642.0                  Action|Thriller  ...   \n",
       "5                   640.0   73058679.0          Action|Adventure|Sci-Fi  ...   \n",
       "\n",
       "  language country  content_rating       budget title_year  \\\n",
       "0  English     USA           PG-13  237000000.0     2009.0   \n",
       "1  English     USA           PG-13  300000000.0     2007.0   \n",
       "2  English      UK           PG-13  245000000.0     2015.0   \n",
       "3  English     USA           PG-13  250000000.0     2012.0   \n",
       "5  English     USA           PG-13  263700000.0     2012.0   \n",
       "\n",
       "   actor_2_facebook_likes imdb_score aspect_ratio  movie_facebook_likes  \\\n",
       "0                   936.0        7.9         1.78                 33000   \n",
       "1                  5000.0        7.1         2.35                     0   \n",
       "2                   393.0        6.8         2.35                 85000   \n",
       "3                 23000.0        8.5         2.35                164000   \n",
       "5                   632.0        6.6         2.35                 24000   \n",
       "\n",
       "  color_0_ou_1  \n",
       "0            1  \n",
       "1            1  \n",
       "2            1  \n",
       "3            1  \n",
       "5            1  \n",
       "\n",
       "[5 rows x 29 columns]"
      ]
     },
     "execution_count": 60,
     "metadata": {},
     "output_type": "execute_result"
    }
   ],
   "source": [
    "# Perguntando se o filme é colorido\n",
    "# Então, dentro da coluna criada (color_0_ou_1) \n",
    "# Se for retornará 1, senão retornará 0\n",
    "\n",
    "color_or_bw = imdb.query(\"color in['Color',' Black and White']\")\n",
    "color_or_bw[\"color_0_ou_1\"] = (color_or_bw[\"color\"]==\"Color\") * 1\n",
    "color_or_bw.head()"
   ]
  },
  {
   "cell_type": "code",
   "execution_count": 23,
   "metadata": {},
   "outputs": [
    {
     "data": {
      "text/plain": [
       "1    4772\n",
       "0     207\n",
       "Name: color_0_ou_1, dtype: int64"
      ]
     },
     "execution_count": 23,
     "metadata": {},
     "output_type": "execute_result"
    }
   ],
   "source": [
    "# Visualizando o numero de filmes\n",
    "# 1 - Coloridos\n",
    "# 0 - Preto e Branco\n",
    "\n",
    "color_or_bw['color_0_ou_1'].value_counts()"
   ]
  },
  {
   "cell_type": "markdown",
   "metadata": {},
   "source": [
    "---\n",
    "## Plotando gráfico \n",
    "Veja que agora nós temos uma última coluna em nosso dataframe com valores 0 e 1. Agora podemos construir gráficos com essa informação de filmes coloridos ou não."
   ]
  },
  {
   "cell_type": "code",
   "execution_count": 25,
   "metadata": {},
   "outputs": [
    {
     "data": {
      "text/plain": [
       "<matplotlib.axes._subplots.AxesSubplot at 0xbb50e90>"
      ]
     },
     "execution_count": 25,
     "metadata": {},
     "output_type": "execute_result"
    },
    {
     "data": {
      "image/png": "[encoded data removed]",
      "text/plain": [
       "<Figure size 432x288 with 1 Axes>"
      ]
     },
     "metadata": {},
     "output_type": "display_data"
    }
   ],
   "source": [
    "# OS FILMES PRETO E BRANCO VENDEM MAIS QUE OS COLORIDOS?\n",
    "\n",
    "# Imprimindo a tabela fazendo a comparação do faturamento com os filmes\n",
    "# Utilizando a bibioteca Seaborn com o grafico scatterplot\n",
    "\n",
    "sns.scatterplot(data=color_or_bw, x='color_0_ou_1', y='gross')"
   ]
  },
  {
   "cell_type": "markdown",
   "metadata": {},
   "source": [
    "Repare como filmes coloridos tem valores bem maiores (isso já era até esperado), mas também temos pontos bem altos em filmes preto e branco, chamando muito atenção.\n",
    "\n",
    "Vamos explorar algumas estatísticas destes filmes:"
   ]
  },
  {
   "cell_type": "code",
   "execution_count": 26,
   "metadata": {},
   "outputs": [
    {
     "data": {
      "text/plain": [
       "color\n",
       " Black and White    3.269160e+07\n",
       "Color               4.887103e+07\n",
       "Name: gross, dtype: float64"
      ]
     },
     "execution_count": 26,
     "metadata": {},
     "output_type": "execute_result"
    }
   ],
   "source": [
    "# Visualizando a média dos valores dos filmes Preto e Branco e Coloridos\n",
    "# Filmes coloridos faturam ~= 50% a mais que filmes em Preto e Branco\n",
    "\n",
    "color_or_bw.groupby('color').mean()['gross']"
   ]
  },
  {
   "cell_type": "code",
   "execution_count": 27,
   "metadata": {},
   "outputs": [
    {
     "data": {
      "text/plain": [
       "color\n",
       " Black and White    7.220290\n",
       "Color               6.408738\n",
       "Name: imdb_score, dtype: float64"
      ]
     },
     "execution_count": 27,
     "metadata": {},
     "output_type": "execute_result"
    }
   ],
   "source": [
    "# Visualizando a nota média por cor\n",
    "\n",
    "color_or_bw.groupby('color').mean()['imdb_score']"
   ]
  },
  {
   "cell_type": "code",
   "execution_count": 28,
   "metadata": {},
   "outputs": [
    {
     "data": {
      "text/plain": [
       "color\n",
       " Black and White    7.4\n",
       "Color               6.5\n",
       "Name: imdb_score, dtype: float64"
      ]
     },
     "execution_count": 28,
     "metadata": {},
     "output_type": "execute_result"
    }
   ],
   "source": [
    "# Visualizando a mediana por cor\n",
    "\n",
    "color_or_bw.groupby(\"color\").median()[\"imdb_score\"]"
   ]
  },
  {
   "cell_type": "markdown",
   "metadata": {},
   "source": [
    "Das estatísticas temos duas bem interessantes, a média e mediana das notas de filmes preto e branco são maiores.\n",
    "\n",
    "---\n",
    "## Comparando Faturamento com Orçamento\n",
    "A partir de agora, vamos fazer uma investigação melhor em relação às finanças dos filmes (faturamento e orçamento).\n",
    "\n",
    "Vamos iniciar plotando e interpretando um gráfico de gross por budget:"
   ]
  },
  {
   "cell_type": "code",
   "execution_count": 33,
   "metadata": {},
   "outputs": [
    {
     "data": {
      "text/html": [
       "<div>\n",
       "<style scoped>\n",
       "    .dataframe tbody tr th:only-of-type {\n",
       "        vertical-align: middle;\n",
       "    }\n",
       "\n",
       "    .dataframe tbody tr th {\n",
       "        vertical-align: top;\n",
       "    }\n",
       "\n",
       "    .dataframe thead th {\n",
       "        text-align: right;\n",
       "    }\n",
       "</style>\n",
       "<table border=\"1\" class=\"dataframe\">\n",
       "  <thead>\n",
       "    <tr style=\"text-align: right;\">\n",
       "      <th></th>\n",
       "      <th>budget</th>\n",
       "      <th>gross</th>\n",
       "    </tr>\n",
       "  </thead>\n",
       "  <tbody>\n",
       "    <tr>\n",
       "      <th>0</th>\n",
       "      <td>237000000.0</td>\n",
       "      <td>760505847.0</td>\n",
       "    </tr>\n",
       "    <tr>\n",
       "      <th>1</th>\n",
       "      <td>300000000.0</td>\n",
       "      <td>309404152.0</td>\n",
       "    </tr>\n",
       "    <tr>\n",
       "      <th>2</th>\n",
       "      <td>245000000.0</td>\n",
       "      <td>200074175.0</td>\n",
       "    </tr>\n",
       "    <tr>\n",
       "      <th>3</th>\n",
       "      <td>250000000.0</td>\n",
       "      <td>448130642.0</td>\n",
       "    </tr>\n",
       "    <tr>\n",
       "      <th>4</th>\n",
       "      <td>NaN</td>\n",
       "      <td>NaN</td>\n",
       "    </tr>\n",
       "    <tr>\n",
       "      <th>5</th>\n",
       "      <td>263700000.0</td>\n",
       "      <td>73058679.0</td>\n",
       "    </tr>\n",
       "    <tr>\n",
       "      <th>6</th>\n",
       "      <td>258000000.0</td>\n",
       "      <td>336530303.0</td>\n",
       "    </tr>\n",
       "    <tr>\n",
       "      <th>7</th>\n",
       "      <td>260000000.0</td>\n",
       "      <td>200807262.0</td>\n",
       "    </tr>\n",
       "    <tr>\n",
       "      <th>8</th>\n",
       "      <td>250000000.0</td>\n",
       "      <td>458991599.0</td>\n",
       "    </tr>\n",
       "    <tr>\n",
       "      <th>9</th>\n",
       "      <td>250000000.0</td>\n",
       "      <td>301956980.0</td>\n",
       "    </tr>\n",
       "    <tr>\n",
       "      <th>10</th>\n",
       "      <td>250000000.0</td>\n",
       "      <td>330249062.0</td>\n",
       "    </tr>\n",
       "    <tr>\n",
       "      <th>11</th>\n",
       "      <td>209000000.0</td>\n",
       "      <td>200069408.0</td>\n",
       "    </tr>\n",
       "    <tr>\n",
       "      <th>12</th>\n",
       "      <td>200000000.0</td>\n",
       "      <td>168368427.0</td>\n",
       "    </tr>\n",
       "    <tr>\n",
       "      <th>13</th>\n",
       "      <td>225000000.0</td>\n",
       "      <td>423032628.0</td>\n",
       "    </tr>\n",
       "    <tr>\n",
       "      <th>14</th>\n",
       "      <td>215000000.0</td>\n",
       "      <td>89289910.0</td>\n",
       "    </tr>\n",
       "  </tbody>\n",
       "</table>\n",
       "</div>"
      ],
      "text/plain": [
       "         budget        gross\n",
       "0   237000000.0  760505847.0\n",
       "1   300000000.0  309404152.0\n",
       "2   245000000.0  200074175.0\n",
       "3   250000000.0  448130642.0\n",
       "4           NaN          NaN\n",
       "5   263700000.0   73058679.0\n",
       "6   258000000.0  336530303.0\n",
       "7   260000000.0  200807262.0\n",
       "8   250000000.0  458991599.0\n",
       "9   250000000.0  301956980.0\n",
       "10  250000000.0  330249062.0\n",
       "11  209000000.0  200069408.0\n",
       "12  200000000.0  168368427.0\n",
       "13  225000000.0  423032628.0\n",
       "14  215000000.0   89289910.0"
      ]
     },
     "execution_count": 33,
     "metadata": {},
     "output_type": "execute_result"
    }
   ],
   "source": [
    "# Comparando valores de faturamento e de Orçamento dos filmes\n",
    "# Imprimindo os 15 primeiros\n",
    "\n",
    "imdb[['budget', 'gross']].head(15)"
   ]
  },
  {
   "cell_type": "code",
   "execution_count": 34,
   "metadata": {},
   "outputs": [
    {
     "data": {
      "text/html": [
       "<div>\n",
       "<style scoped>\n",
       "    .dataframe tbody tr th:only-of-type {\n",
       "        vertical-align: middle;\n",
       "    }\n",
       "\n",
       "    .dataframe tbody tr th {\n",
       "        vertical-align: top;\n",
       "    }\n",
       "\n",
       "    .dataframe thead th {\n",
       "        text-align: right;\n",
       "    }\n",
       "</style>\n",
       "<table border=\"1\" class=\"dataframe\">\n",
       "  <thead>\n",
       "    <tr style=\"text-align: right;\">\n",
       "      <th></th>\n",
       "      <th>budget</th>\n",
       "      <th>gross</th>\n",
       "    </tr>\n",
       "  </thead>\n",
       "  <tbody>\n",
       "    <tr>\n",
       "      <th>0</th>\n",
       "      <td>237000000.0</td>\n",
       "      <td>760505847.0</td>\n",
       "    </tr>\n",
       "    <tr>\n",
       "      <th>1</th>\n",
       "      <td>300000000.0</td>\n",
       "      <td>309404152.0</td>\n",
       "    </tr>\n",
       "    <tr>\n",
       "      <th>2</th>\n",
       "      <td>245000000.0</td>\n",
       "      <td>200074175.0</td>\n",
       "    </tr>\n",
       "    <tr>\n",
       "      <th>3</th>\n",
       "      <td>250000000.0</td>\n",
       "      <td>448130642.0</td>\n",
       "    </tr>\n",
       "    <tr>\n",
       "      <th>5</th>\n",
       "      <td>263700000.0</td>\n",
       "      <td>73058679.0</td>\n",
       "    </tr>\n",
       "    <tr>\n",
       "      <th>6</th>\n",
       "      <td>258000000.0</td>\n",
       "      <td>336530303.0</td>\n",
       "    </tr>\n",
       "    <tr>\n",
       "      <th>7</th>\n",
       "      <td>260000000.0</td>\n",
       "      <td>200807262.0</td>\n",
       "    </tr>\n",
       "    <tr>\n",
       "      <th>8</th>\n",
       "      <td>250000000.0</td>\n",
       "      <td>458991599.0</td>\n",
       "    </tr>\n",
       "    <tr>\n",
       "      <th>9</th>\n",
       "      <td>250000000.0</td>\n",
       "      <td>301956980.0</td>\n",
       "    </tr>\n",
       "    <tr>\n",
       "      <th>10</th>\n",
       "      <td>250000000.0</td>\n",
       "      <td>330249062.0</td>\n",
       "    </tr>\n",
       "    <tr>\n",
       "      <th>11</th>\n",
       "      <td>209000000.0</td>\n",
       "      <td>200069408.0</td>\n",
       "    </tr>\n",
       "    <tr>\n",
       "      <th>12</th>\n",
       "      <td>200000000.0</td>\n",
       "      <td>168368427.0</td>\n",
       "    </tr>\n",
       "    <tr>\n",
       "      <th>13</th>\n",
       "      <td>225000000.0</td>\n",
       "      <td>423032628.0</td>\n",
       "    </tr>\n",
       "    <tr>\n",
       "      <th>14</th>\n",
       "      <td>215000000.0</td>\n",
       "      <td>89289910.0</td>\n",
       "    </tr>\n",
       "    <tr>\n",
       "      <th>15</th>\n",
       "      <td>225000000.0</td>\n",
       "      <td>291021565.0</td>\n",
       "    </tr>\n",
       "  </tbody>\n",
       "</table>\n",
       "</div>"
      ],
      "text/plain": [
       "         budget        gross\n",
       "0   237000000.0  760505847.0\n",
       "1   300000000.0  309404152.0\n",
       "2   245000000.0  200074175.0\n",
       "3   250000000.0  448130642.0\n",
       "5   263700000.0   73058679.0\n",
       "6   258000000.0  336530303.0\n",
       "7   260000000.0  200807262.0\n",
       "8   250000000.0  458991599.0\n",
       "9   250000000.0  301956980.0\n",
       "10  250000000.0  330249062.0\n",
       "11  209000000.0  200069408.0\n",
       "12  200000000.0  168368427.0\n",
       "13  225000000.0  423032628.0\n",
       "14  215000000.0   89289910.0\n",
       "15  225000000.0  291021565.0"
      ]
     },
     "execution_count": 34,
     "metadata": {},
     "output_type": "execute_result"
    }
   ],
   "source": [
    "# Removendo valores NaN(Not a Number)\n",
    "# Imprimindo os 15 primeiros\n",
    "\n",
    "imdb[['budget', 'gross']].dropna().head(15)"
   ]
  },
  {
   "cell_type": "code",
   "execution_count": 36,
   "metadata": {},
   "outputs": [
    {
     "data": {
      "text/plain": [
       "<matplotlib.axes._subplots.AxesSubplot at 0xbbec530>"
      ]
     },
     "execution_count": 36,
     "metadata": {},
     "output_type": "execute_result"
    },
    {
     "data": {
      "image/png": "[encoded data removed]",
      "text/plain": [
       "<Figure size 432x288 with 1 Axes>"
      ]
     },
     "metadata": {},
     "output_type": "display_data"
    }
   ],
   "source": [
    "# Imprimindo um grafico das informações tratadas\n",
    "\n",
    "budget_gross = imdb[['budget', 'gross']].dropna()\n",
    "\n",
    "sns.scatterplot(x='budget', y='gross', data=budget_gross)"
   ]
  },
  {
   "cell_type": "markdown",
   "metadata": {},
   "source": [
    "Para plotar os dados, primeiro removemos as linhas com informações de faturamento e orçamento vazias e também com valores igual a 0, para então gerar o gráfico."
   ]
  },
  {
   "cell_type": "code",
   "execution_count": 37,
   "metadata": {},
   "outputs": [
    {
     "data": {
      "text/plain": [
       "<matplotlib.axes._subplots.AxesSubplot at 0xbfd8730>"
      ]
     },
     "execution_count": 37,
     "metadata": {},
     "output_type": "execute_result"
    },
    {
     "data": {
      "image/png": "[encoded data removed]",
      "text/plain": [
       "<Figure size 432x288 with 1 Axes>"
      ]
     },
     "metadata": {},
     "output_type": "display_data"
    }
   ],
   "source": [
    "# Buscando por valores > 0 (Maior do que zero)\n",
    "budget_gross = imdb[['budget', 'gross']].dropna().query('budget > 0 | gross > 0')\n",
    "\n",
    "sns.scatterplot(x='budget', y='gross', data=budget_gross)\n",
    "\n",
    "# Não mudou :( , o que será?"
   ]
  },
  {
   "cell_type": "markdown",
   "metadata": {},
   "source": [
    "Não mudou, o que será que está deixando esses valores nos extremos do gráfico?\n",
    "\n",
    "Procurando pelo [Outlier](https://pt.wikipedia.org/wiki/Outlier) dentro do grafico"
   ]
  },
  {
   "cell_type": "code",
   "execution_count": 43,
   "metadata": {},
   "outputs": [
    {
     "data": {
      "text/html": [
       "<div>\n",
       "<style scoped>\n",
       "    .dataframe tbody tr th:only-of-type {\n",
       "        vertical-align: middle;\n",
       "    }\n",
       "\n",
       "    .dataframe tbody tr th {\n",
       "        vertical-align: top;\n",
       "    }\n",
       "\n",
       "    .dataframe thead th {\n",
       "        text-align: right;\n",
       "    }\n",
       "</style>\n",
       "<table border=\"1\" class=\"dataframe\">\n",
       "  <thead>\n",
       "    <tr style=\"text-align: right;\">\n",
       "      <th></th>\n",
       "      <th>color</th>\n",
       "      <th>director_name</th>\n",
       "      <th>num_critic_for_reviews</th>\n",
       "      <th>duration</th>\n",
       "      <th>director_facebook_likes</th>\n",
       "      <th>actor_3_facebook_likes</th>\n",
       "      <th>actor_2_name</th>\n",
       "      <th>actor_1_facebook_likes</th>\n",
       "      <th>gross</th>\n",
       "      <th>genres</th>\n",
       "      <th>...</th>\n",
       "      <th>num_user_for_reviews</th>\n",
       "      <th>language</th>\n",
       "      <th>country</th>\n",
       "      <th>content_rating</th>\n",
       "      <th>budget</th>\n",
       "      <th>title_year</th>\n",
       "      <th>actor_2_facebook_likes</th>\n",
       "      <th>imdb_score</th>\n",
       "      <th>aspect_ratio</th>\n",
       "      <th>movie_facebook_likes</th>\n",
       "    </tr>\n",
       "  </thead>\n",
       "  <tbody>\n",
       "    <tr>\n",
       "      <th>2988</th>\n",
       "      <td>Color</td>\n",
       "      <td>Joon-ho Bong</td>\n",
       "      <td>363.0</td>\n",
       "      <td>110.0</td>\n",
       "      <td>584.0</td>\n",
       "      <td>74.0</td>\n",
       "      <td>Kang-ho Song</td>\n",
       "      <td>629.0</td>\n",
       "      <td>2201412.0</td>\n",
       "      <td>Comedy|Drama|Horror|Sci-Fi</td>\n",
       "      <td>...</td>\n",
       "      <td>279.0</td>\n",
       "      <td>Korean</td>\n",
       "      <td>South Korea</td>\n",
       "      <td>R</td>\n",
       "      <td>1.221550e+10</td>\n",
       "      <td>2006.0</td>\n",
       "      <td>398.0</td>\n",
       "      <td>7.0</td>\n",
       "      <td>1.85</td>\n",
       "      <td>7000</td>\n",
       "    </tr>\n",
       "    <tr>\n",
       "      <th>3859</th>\n",
       "      <td>Color</td>\n",
       "      <td>Chan-wook Park</td>\n",
       "      <td>202.0</td>\n",
       "      <td>112.0</td>\n",
       "      <td>0.0</td>\n",
       "      <td>38.0</td>\n",
       "      <td>Yeong-ae Lee</td>\n",
       "      <td>717.0</td>\n",
       "      <td>211667.0</td>\n",
       "      <td>Crime|Drama</td>\n",
       "      <td>...</td>\n",
       "      <td>131.0</td>\n",
       "      <td>Korean</td>\n",
       "      <td>South Korea</td>\n",
       "      <td>R</td>\n",
       "      <td>4.200000e+09</td>\n",
       "      <td>2005.0</td>\n",
       "      <td>126.0</td>\n",
       "      <td>7.7</td>\n",
       "      <td>2.35</td>\n",
       "      <td>4000</td>\n",
       "    </tr>\n",
       "    <tr>\n",
       "      <th>3005</th>\n",
       "      <td>Color</td>\n",
       "      <td>Lajos Koltai</td>\n",
       "      <td>73.0</td>\n",
       "      <td>134.0</td>\n",
       "      <td>45.0</td>\n",
       "      <td>0.0</td>\n",
       "      <td>Péter Fancsikai</td>\n",
       "      <td>9.0</td>\n",
       "      <td>195888.0</td>\n",
       "      <td>Drama|Romance|War</td>\n",
       "      <td>...</td>\n",
       "      <td>45.0</td>\n",
       "      <td>Hungarian</td>\n",
       "      <td>Hungary</td>\n",
       "      <td>R</td>\n",
       "      <td>2.500000e+09</td>\n",
       "      <td>2005.0</td>\n",
       "      <td>2.0</td>\n",
       "      <td>7.1</td>\n",
       "      <td>2.35</td>\n",
       "      <td>607</td>\n",
       "    </tr>\n",
       "    <tr>\n",
       "      <th>2323</th>\n",
       "      <td>Color</td>\n",
       "      <td>Hayao Miyazaki</td>\n",
       "      <td>174.0</td>\n",
       "      <td>134.0</td>\n",
       "      <td>6000.0</td>\n",
       "      <td>745.0</td>\n",
       "      <td>Jada Pinkett Smith</td>\n",
       "      <td>893.0</td>\n",
       "      <td>2298191.0</td>\n",
       "      <td>Adventure|Animation|Fantasy</td>\n",
       "      <td>...</td>\n",
       "      <td>570.0</td>\n",
       "      <td>Japanese</td>\n",
       "      <td>Japan</td>\n",
       "      <td>PG-13</td>\n",
       "      <td>2.400000e+09</td>\n",
       "      <td>1997.0</td>\n",
       "      <td>851.0</td>\n",
       "      <td>8.4</td>\n",
       "      <td>1.85</td>\n",
       "      <td>11000</td>\n",
       "    </tr>\n",
       "    <tr>\n",
       "      <th>2334</th>\n",
       "      <td>Color</td>\n",
       "      <td>Katsuhiro Ôtomo</td>\n",
       "      <td>105.0</td>\n",
       "      <td>103.0</td>\n",
       "      <td>78.0</td>\n",
       "      <td>101.0</td>\n",
       "      <td>Robin Atkin Downes</td>\n",
       "      <td>488.0</td>\n",
       "      <td>410388.0</td>\n",
       "      <td>Action|Adventure|Animation|Family|Sci-Fi|Thriller</td>\n",
       "      <td>...</td>\n",
       "      <td>79.0</td>\n",
       "      <td>Japanese</td>\n",
       "      <td>Japan</td>\n",
       "      <td>PG-13</td>\n",
       "      <td>2.127520e+09</td>\n",
       "      <td>2004.0</td>\n",
       "      <td>336.0</td>\n",
       "      <td>6.9</td>\n",
       "      <td>1.85</td>\n",
       "      <td>973</td>\n",
       "    </tr>\n",
       "  </tbody>\n",
       "</table>\n",
       "<p>5 rows × 28 columns</p>\n",
       "</div>"
      ],
      "text/plain": [
       "      color    director_name  num_critic_for_reviews  duration  \\\n",
       "2988  Color     Joon-ho Bong                   363.0     110.0   \n",
       "3859  Color   Chan-wook Park                   202.0     112.0   \n",
       "3005  Color     Lajos Koltai                    73.0     134.0   \n",
       "2323  Color   Hayao Miyazaki                   174.0     134.0   \n",
       "2334  Color  Katsuhiro Ôtomo                   105.0     103.0   \n",
       "\n",
       "      director_facebook_likes  actor_3_facebook_likes        actor_2_name  \\\n",
       "2988                    584.0                    74.0        Kang-ho Song   \n",
       "3859                      0.0                    38.0        Yeong-ae Lee   \n",
       "3005                     45.0                     0.0     Péter Fancsikai   \n",
       "2323                   6000.0                   745.0  Jada Pinkett Smith   \n",
       "2334                     78.0                   101.0  Robin Atkin Downes   \n",
       "\n",
       "      actor_1_facebook_likes      gross  \\\n",
       "2988                   629.0  2201412.0   \n",
       "3859                   717.0   211667.0   \n",
       "3005                     9.0   195888.0   \n",
       "2323                   893.0  2298191.0   \n",
       "2334                   488.0   410388.0   \n",
       "\n",
       "                                                 genres  ...  \\\n",
       "2988                         Comedy|Drama|Horror|Sci-Fi  ...   \n",
       "3859                                        Crime|Drama  ...   \n",
       "3005                                  Drama|Romance|War  ...   \n",
       "2323                        Adventure|Animation|Fantasy  ...   \n",
       "2334  Action|Adventure|Animation|Family|Sci-Fi|Thriller  ...   \n",
       "\n",
       "     num_user_for_reviews   language      country  content_rating  \\\n",
       "2988                279.0     Korean  South Korea               R   \n",
       "3859                131.0     Korean  South Korea               R   \n",
       "3005                 45.0  Hungarian      Hungary               R   \n",
       "2323                570.0   Japanese        Japan           PG-13   \n",
       "2334                 79.0   Japanese        Japan           PG-13   \n",
       "\n",
       "            budget  title_year actor_2_facebook_likes imdb_score  \\\n",
       "2988  1.221550e+10      2006.0                  398.0        7.0   \n",
       "3859  4.200000e+09      2005.0                  126.0        7.7   \n",
       "3005  2.500000e+09      2005.0                    2.0        7.1   \n",
       "2323  2.400000e+09      1997.0                  851.0        8.4   \n",
       "2334  2.127520e+09      2004.0                  336.0        6.9   \n",
       "\n",
       "      aspect_ratio movie_facebook_likes  \n",
       "2988          1.85                 7000  \n",
       "3859          2.35                 4000  \n",
       "3005          2.35                  607  \n",
       "2323          1.85                11000  \n",
       "2334          1.85                  973  \n",
       "\n",
       "[5 rows x 28 columns]"
      ]
     },
     "execution_count": 43,
     "metadata": {},
     "output_type": "execute_result"
    }
   ],
   "source": [
    "# Pegando apenas os 5 primeiros\n",
    "imdb.sort_values('budget', ascending=False).head()"
   ]
  },
  {
   "cell_type": "markdown",
   "metadata": {},
   "source": [
    "Ordenando os dados pelo budget percebemos que as primeiras posições são de filmes asiáticos.\n",
    "\n",
    "Países como a Coreia usam moedas que tem três casas decimais a mais que o dólar.\n",
    "\n",
    "Então provavelmente o que está ocorrendo é que os dados de orçamento tem valores na moeda local, por isso detectamos valores tão discrepantes.\n",
    "\n",
    "Como não temos garantia dos números, vamos precisar trabalhar apenas com filmes americanos, assim garantimos que tanto gross e budget estão em dólares. Então vamos iniciar esse processo:"
   ]
  },
  {
   "cell_type": "code",
   "execution_count": 44,
   "metadata": {},
   "outputs": [
    {
     "data": {
      "text/plain": [
       "array(['USA', 'UK', nan, 'New Zealand', 'Canada', 'Australia', 'Belgium',\n",
       "       'Japan', 'Germany', 'China', 'France', 'New Line', 'Mexico',\n",
       "       'Spain', 'Hong Kong', 'Czech Republic', 'India', 'Soviet Union',\n",
       "       'South Korea', 'Peru', 'Italy', 'Russia', 'Aruba', 'Denmark',\n",
       "       'Libya', 'Ireland', 'South Africa', 'Iceland', 'Switzerland',\n",
       "       'Romania', 'West Germany', 'Chile', 'Netherlands', 'Hungary',\n",
       "       'Panama', 'Greece', 'Sweden', 'Norway', 'Taiwan', 'Official site',\n",
       "       'Cambodia', 'Thailand', 'Slovakia', 'Bulgaria', 'Iran', 'Poland',\n",
       "       'Georgia', 'Turkey', 'Nigeria', 'Brazil', 'Finland', 'Bahamas',\n",
       "       'Argentina', 'Colombia', 'Israel', 'Egypt', 'Kyrgyzstan',\n",
       "       'Indonesia', 'Pakistan', 'Slovenia', 'Afghanistan',\n",
       "       'Dominican Republic', 'Cameroon', 'United Arab Emirates', 'Kenya',\n",
       "       'Philippines'], dtype=object)"
      ]
     },
     "execution_count": 44,
     "metadata": {},
     "output_type": "execute_result"
    }
   ],
   "source": [
    "# Quais paises estão inseridos dentro dessa tabela?\n",
    "\n",
    "imdb['country'].unique()"
   ]
  },
  {
   "cell_type": "markdown",
   "metadata": {},
   "source": [
    "❗ Existem filmes de diversos países dentro da tabela"
   ]
  },
  {
   "cell_type": "code",
   "execution_count": 46,
   "metadata": {},
   "outputs": [
    {
     "data": {
      "text/html": [
       "<div>\n",
       "<style scoped>\n",
       "    .dataframe tbody tr th:only-of-type {\n",
       "        vertical-align: middle;\n",
       "    }\n",
       "\n",
       "    .dataframe tbody tr th {\n",
       "        vertical-align: top;\n",
       "    }\n",
       "\n",
       "    .dataframe thead th {\n",
       "        text-align: right;\n",
       "    }\n",
       "</style>\n",
       "<table border=\"1\" class=\"dataframe\">\n",
       "  <thead>\n",
       "    <tr style=\"text-align: right;\">\n",
       "      <th></th>\n",
       "      <th>color</th>\n",
       "      <th>director_name</th>\n",
       "      <th>num_critic_for_reviews</th>\n",
       "      <th>duration</th>\n",
       "      <th>director_facebook_likes</th>\n",
       "      <th>actor_3_facebook_likes</th>\n",
       "      <th>actor_2_name</th>\n",
       "      <th>actor_1_facebook_likes</th>\n",
       "      <th>gross</th>\n",
       "      <th>genres</th>\n",
       "      <th>...</th>\n",
       "      <th>num_user_for_reviews</th>\n",
       "      <th>language</th>\n",
       "      <th>country</th>\n",
       "      <th>content_rating</th>\n",
       "      <th>budget</th>\n",
       "      <th>title_year</th>\n",
       "      <th>actor_2_facebook_likes</th>\n",
       "      <th>imdb_score</th>\n",
       "      <th>aspect_ratio</th>\n",
       "      <th>movie_facebook_likes</th>\n",
       "    </tr>\n",
       "  </thead>\n",
       "  <tbody>\n",
       "    <tr>\n",
       "      <th>1</th>\n",
       "      <td>Color</td>\n",
       "      <td>Gore Verbinski</td>\n",
       "      <td>302.0</td>\n",
       "      <td>169.0</td>\n",
       "      <td>563.0</td>\n",
       "      <td>1000.0</td>\n",
       "      <td>Orlando Bloom</td>\n",
       "      <td>40000.0</td>\n",
       "      <td>309404152.0</td>\n",
       "      <td>Action|Adventure|Fantasy</td>\n",
       "      <td>...</td>\n",
       "      <td>1238.0</td>\n",
       "      <td>English</td>\n",
       "      <td>USA</td>\n",
       "      <td>PG-13</td>\n",
       "      <td>300000000.0</td>\n",
       "      <td>2007.0</td>\n",
       "      <td>5000.0</td>\n",
       "      <td>7.1</td>\n",
       "      <td>2.35</td>\n",
       "      <td>0</td>\n",
       "    </tr>\n",
       "    <tr>\n",
       "      <th>5</th>\n",
       "      <td>Color</td>\n",
       "      <td>Andrew Stanton</td>\n",
       "      <td>462.0</td>\n",
       "      <td>132.0</td>\n",
       "      <td>475.0</td>\n",
       "      <td>530.0</td>\n",
       "      <td>Samantha Morton</td>\n",
       "      <td>640.0</td>\n",
       "      <td>73058679.0</td>\n",
       "      <td>Action|Adventure|Sci-Fi</td>\n",
       "      <td>...</td>\n",
       "      <td>738.0</td>\n",
       "      <td>English</td>\n",
       "      <td>USA</td>\n",
       "      <td>PG-13</td>\n",
       "      <td>263700000.0</td>\n",
       "      <td>2012.0</td>\n",
       "      <td>632.0</td>\n",
       "      <td>6.6</td>\n",
       "      <td>2.35</td>\n",
       "      <td>24000</td>\n",
       "    </tr>\n",
       "    <tr>\n",
       "      <th>7</th>\n",
       "      <td>Color</td>\n",
       "      <td>Nathan Greno</td>\n",
       "      <td>324.0</td>\n",
       "      <td>100.0</td>\n",
       "      <td>15.0</td>\n",
       "      <td>284.0</td>\n",
       "      <td>Donna Murphy</td>\n",
       "      <td>799.0</td>\n",
       "      <td>200807262.0</td>\n",
       "      <td>Adventure|Animation|Comedy|Family|Fantasy|Musi...</td>\n",
       "      <td>...</td>\n",
       "      <td>387.0</td>\n",
       "      <td>English</td>\n",
       "      <td>USA</td>\n",
       "      <td>PG</td>\n",
       "      <td>260000000.0</td>\n",
       "      <td>2010.0</td>\n",
       "      <td>553.0</td>\n",
       "      <td>7.8</td>\n",
       "      <td>1.85</td>\n",
       "      <td>29000</td>\n",
       "    </tr>\n",
       "    <tr>\n",
       "      <th>6</th>\n",
       "      <td>Color</td>\n",
       "      <td>Sam Raimi</td>\n",
       "      <td>392.0</td>\n",
       "      <td>156.0</td>\n",
       "      <td>0.0</td>\n",
       "      <td>4000.0</td>\n",
       "      <td>James Franco</td>\n",
       "      <td>24000.0</td>\n",
       "      <td>336530303.0</td>\n",
       "      <td>Action|Adventure|Romance</td>\n",
       "      <td>...</td>\n",
       "      <td>1902.0</td>\n",
       "      <td>English</td>\n",
       "      <td>USA</td>\n",
       "      <td>PG-13</td>\n",
       "      <td>258000000.0</td>\n",
       "      <td>2007.0</td>\n",
       "      <td>11000.0</td>\n",
       "      <td>6.2</td>\n",
       "      <td>2.35</td>\n",
       "      <td>0</td>\n",
       "    </tr>\n",
       "    <tr>\n",
       "      <th>3461</th>\n",
       "      <td>Color</td>\n",
       "      <td>Sam Raimi</td>\n",
       "      <td>392.0</td>\n",
       "      <td>156.0</td>\n",
       "      <td>0.0</td>\n",
       "      <td>4000.0</td>\n",
       "      <td>James Franco</td>\n",
       "      <td>24000.0</td>\n",
       "      <td>336530303.0</td>\n",
       "      <td>Action|Adventure|Romance</td>\n",
       "      <td>...</td>\n",
       "      <td>1902.0</td>\n",
       "      <td>English</td>\n",
       "      <td>USA</td>\n",
       "      <td>PG-13</td>\n",
       "      <td>258000000.0</td>\n",
       "      <td>2007.0</td>\n",
       "      <td>11000.0</td>\n",
       "      <td>6.2</td>\n",
       "      <td>2.35</td>\n",
       "      <td>0</td>\n",
       "    </tr>\n",
       "  </tbody>\n",
       "</table>\n",
       "<p>5 rows × 28 columns</p>\n",
       "</div>"
      ],
      "text/plain": [
       "      color   director_name  num_critic_for_reviews  duration  \\\n",
       "1     Color  Gore Verbinski                   302.0     169.0   \n",
       "5     Color  Andrew Stanton                   462.0     132.0   \n",
       "7     Color    Nathan Greno                   324.0     100.0   \n",
       "6     Color       Sam Raimi                   392.0     156.0   \n",
       "3461  Color       Sam Raimi                   392.0     156.0   \n",
       "\n",
       "      director_facebook_likes  actor_3_facebook_likes     actor_2_name  \\\n",
       "1                       563.0                  1000.0    Orlando Bloom   \n",
       "5                       475.0                   530.0  Samantha Morton   \n",
       "7                        15.0                   284.0     Donna Murphy   \n",
       "6                         0.0                  4000.0     James Franco   \n",
       "3461                      0.0                  4000.0     James Franco   \n",
       "\n",
       "      actor_1_facebook_likes        gross  \\\n",
       "1                    40000.0  309404152.0   \n",
       "5                      640.0   73058679.0   \n",
       "7                      799.0  200807262.0   \n",
       "6                    24000.0  336530303.0   \n",
       "3461                 24000.0  336530303.0   \n",
       "\n",
       "                                                 genres  ...  \\\n",
       "1                              Action|Adventure|Fantasy  ...   \n",
       "5                               Action|Adventure|Sci-Fi  ...   \n",
       "7     Adventure|Animation|Comedy|Family|Fantasy|Musi...  ...   \n",
       "6                              Action|Adventure|Romance  ...   \n",
       "3461                           Action|Adventure|Romance  ...   \n",
       "\n",
       "     num_user_for_reviews language  country  content_rating       budget  \\\n",
       "1                  1238.0  English      USA           PG-13  300000000.0   \n",
       "5                   738.0  English      USA           PG-13  263700000.0   \n",
       "7                   387.0  English      USA              PG  260000000.0   \n",
       "6                  1902.0  English      USA           PG-13  258000000.0   \n",
       "3461               1902.0  English      USA           PG-13  258000000.0   \n",
       "\n",
       "      title_year actor_2_facebook_likes imdb_score  aspect_ratio  \\\n",
       "1         2007.0                 5000.0        7.1          2.35   \n",
       "5         2012.0                  632.0        6.6          2.35   \n",
       "7         2010.0                  553.0        7.8          1.85   \n",
       "6         2007.0                11000.0        6.2          2.35   \n",
       "3461      2007.0                11000.0        6.2          2.35   \n",
       "\n",
       "     movie_facebook_likes  \n",
       "1                       0  \n",
       "5                   24000  \n",
       "7                   29000  \n",
       "6                       0  \n",
       "3461                    0  \n",
       "\n",
       "[5 rows x 28 columns]"
      ]
     },
     "execution_count": 46,
     "metadata": {},
     "output_type": "execute_result"
    }
   ],
   "source": [
    "# Imprimindo apenas filmes Estadunidenses\n",
    "\n",
    "imdb_usa = imdb.query(\"country == 'USA'\")\n",
    "imdb_usa.sort_values('budget', ascending=False).head()"
   ]
  },
  {
   "cell_type": "markdown",
   "metadata": {},
   "source": [
    "Agora temos os dados para fazer uma análise melhor entre gross e budget. Vamos plotar o gráfico novamente:"
   ]
  },
  {
   "cell_type": "code",
   "execution_count": 47,
   "metadata": {},
   "outputs": [
    {
     "data": {
      "text/plain": [
       "<matplotlib.axes._subplots.AxesSubplot at 0xbbb9590>"
      ]
     },
     "execution_count": 47,
     "metadata": {},
     "output_type": "execute_result"
    },
    {
     "data": {
      "image/png": "[encoded data removed]",
      "text/plain": [
       "<Figure size 432x288 with 1 Axes>"
      ]
     },
     "metadata": {},
     "output_type": "display_data"
    }
   ],
   "source": [
    "# Buscando por valores > 0 (Maior do que zero)\n",
    "budget_gross = imdb_usa[['budget', 'gross']].dropna().query('budget > 0 | gross > 0')\n",
    "\n",
    "sns.scatterplot(x='budget', y='gross', data=budget_gross)"
   ]
  },
  {
   "cell_type": "markdown",
   "metadata": {},
   "source": [
    "Aparentemente temos uma relação entre orçamento e faturamento. \n",
    "\n",
    "``Quanto maior o orçamento, maior o faturamento``\n",
    "\n",
    "---\n",
    "\n",
    "Podemos construir uma nova informação, o ``lucro``, para analisar."
   ]
  },
  {
   "cell_type": "code",
   "execution_count": 48,
   "metadata": {},
   "outputs": [
    {
     "name": "stderr",
     "output_type": "stream",
     "text": [
      "c:\\users\\anapaula\\appdata\\local\\programs\\python\\python37-32\\lib\\site-packages\\ipykernel_launcher.py:3: SettingWithCopyWarning: \n",
      "A value is trying to be set on a copy of a slice from a DataFrame.\n",
      "Try using .loc[row_indexer,col_indexer] = value instead\n",
      "\n",
      "See the caveats in the documentation: http://pandas.pydata.org/pandas-docs/stable/indexing.html#indexing-view-versus-copy\n",
      "  This is separate from the ipykernel package so we can avoid doing imports until\n"
     ]
    },
    {
     "data": {
      "text/plain": [
       "<matplotlib.axes._subplots.AxesSubplot at 0xc064570>"
      ]
     },
     "execution_count": 48,
     "metadata": {},
     "output_type": "execute_result"
    },
    {
     "data": {
      "image/png": "[encoded data removed]",
      "text/plain": [
       "<Figure size 432x288 with 1 Axes>"
      ]
     },
     "metadata": {},
     "output_type": "display_data"
    }
   ],
   "source": [
    "# Relação Lucro/Prejuizo\n",
    "\n",
    "imdb_usa['lucro'] = imdb_usa['gross'] - imdb_usa['budget']\n",
    "\n",
    "budget_gross = imdb_usa.query('budget > 0 | gross > 0')[['budget', 'lucro']].dropna()\n",
    "\n",
    "sns.scatterplot(x='budget', y='lucro', data=budget_gross)"
   ]
  },
  {
   "cell_type": "markdown",
   "metadata": {},
   "source": [
    "Construímos nossa coluna lucro na base de dados e plotamos o **orçamento** contra **lucro**.\n",
    "\n",
    "---\n",
    "## Realizamos uma Feature Engineer 😃\n",
    "A variavel ``lucro`` foi criada como uma feature para o nosso Dataset apartir de duas features, que eram o ``gross`` e o ``budget``\n",
    "\n",
    "De forma bem simplista esse processo de construir novas informações a partir das existentes no dataset é conhecido como ``Feature Engineering``."
   ]
  },
  {
   "cell_type": "markdown",
   "metadata": {},
   "source": [
    "## Analisando o gráfico\n",
    "- Repare que temos pontos interessantes nesta visualização, um deles são esses filmes com muito custo e prejuizo.\n",
    "\n",
    "Isso pode ser um prejuizo real, mas também podem ser filmes que ainda não tiveram tempo de recuperar o investimento (lançamentos recentes).\n",
    "\n",
    "- Outros pontos interessantes de se analisar seriam os filmes com baixos orçamentos e muito lucro, será que são estão corretos ou pode ser algum erro da base?\n",
    "\n",
    "Parece que nem sempre gastar uma tonelada de dinheiro vai gerar lucros absurdos, será que é isso é verdade?\n",
    "\n",
    "---\n",
    "Já que essa nova feature (lucro) parace ser interessante de se analisar, vamos ver o lucro em relação ao ano de produção:\n"
   ]
  },
  {
   "cell_type": "code",
   "execution_count": 49,
   "metadata": {},
   "outputs": [
    {
     "data": {
      "text/plain": [
       "<matplotlib.axes._subplots.AxesSubplot at 0xc08fff0>"
      ]
     },
     "execution_count": 49,
     "metadata": {},
     "output_type": "execute_result"
    },
    {
     "data": {
      "image/png": "[encoded data removed]",
      "text/plain": [
       "<Figure size 432x288 with 1 Axes>"
      ]
     },
     "metadata": {},
     "output_type": "display_data"
    }
   ],
   "source": [
    "# Relação Lucro/Ano\n",
    "\n",
    "budget_gross = imdb_usa.query('budget > 0 | gross > 0')[['title_year', 'lucro']].dropna()\n",
    "\n",
    "sns.scatterplot(x='title_year', y='lucro', data=budget_gross)"
   ]
  },
  {
   "cell_type": "markdown",
   "metadata": {},
   "source": [
    "veja como alguns pontos mais recentes reforça a teoria de que alguns filmes podem ainda não ter recuperado o dinheiro investido **(Claro que temos muitas variáveis para se analisar, mas é um indício relevante)**."
   ]
  },
  {
   "cell_type": "markdown",
   "metadata": {},
   "source": [
    "O instrutor Paulo sugeriu uma análise com os nomes dos **Diretores** e o **Orçamento** de seus filmes."
   ]
  },
  {
   "cell_type": "code",
   "execution_count": 50,
   "metadata": {},
   "outputs": [
    {
     "data": {
      "text/plain": [
       "Steven Spielberg    24\n",
       "Clint Eastwood      20\n",
       "Martin Scorsese     20\n",
       "Woody Allen         18\n",
       "Spike Lee           16\n",
       "Name: director_name, dtype: int64"
      ]
     },
     "execution_count": 50,
     "metadata": {},
     "output_type": "execute_result"
    }
   ],
   "source": [
    "# Quantidade de filmes por diretor\n",
    "filmes_por_diretor = imdb_usa['director_name'].value_counts()\n",
    "filmes_por_diretor.head()"
   ]
  },
  {
   "cell_type": "code",
   "execution_count": 53,
   "metadata": {},
   "outputs": [
    {
     "data": {
      "text/html": [
       "<div>\n",
       "<style scoped>\n",
       "    .dataframe tbody tr th:only-of-type {\n",
       "        vertical-align: middle;\n",
       "    }\n",
       "\n",
       "    .dataframe tbody tr th {\n",
       "        vertical-align: top;\n",
       "    }\n",
       "\n",
       "    .dataframe thead th {\n",
       "        text-align: right;\n",
       "    }\n",
       "</style>\n",
       "<table border=\"1\" class=\"dataframe\">\n",
       "  <thead>\n",
       "    <tr style=\"text-align: right;\">\n",
       "      <th></th>\n",
       "      <th>director_name</th>\n",
       "      <th>faturamento</th>\n",
       "      <th>filmes_produzidos</th>\n",
       "    </tr>\n",
       "  </thead>\n",
       "  <tbody>\n",
       "    <tr>\n",
       "      <th>0</th>\n",
       "      <td>James Cameron</td>\n",
       "      <td>760505847.0</td>\n",
       "      <td>6.0</td>\n",
       "    </tr>\n",
       "    <tr>\n",
       "      <th>1</th>\n",
       "      <td>Gore Verbinski</td>\n",
       "      <td>309404152.0</td>\n",
       "      <td>7.0</td>\n",
       "    </tr>\n",
       "    <tr>\n",
       "      <th>2</th>\n",
       "      <td>Christopher Nolan</td>\n",
       "      <td>448130642.0</td>\n",
       "      <td>8.0</td>\n",
       "    </tr>\n",
       "    <tr>\n",
       "      <th>3</th>\n",
       "      <td>Andrew Stanton</td>\n",
       "      <td>73058679.0</td>\n",
       "      <td>3.0</td>\n",
       "    </tr>\n",
       "    <tr>\n",
       "      <th>4</th>\n",
       "      <td>Sam Raimi</td>\n",
       "      <td>336530303.0</td>\n",
       "      <td>11.0</td>\n",
       "    </tr>\n",
       "  </tbody>\n",
       "</table>\n",
       "</div>"
      ],
      "text/plain": [
       "       director_name  faturamento  filmes_produzidos\n",
       "0      James Cameron  760505847.0                6.0\n",
       "1     Gore Verbinski  309404152.0                7.0\n",
       "2  Christopher Nolan  448130642.0                8.0\n",
       "3     Andrew Stanton   73058679.0                3.0\n",
       "4          Sam Raimi  336530303.0               11.0"
      ]
     },
     "execution_count": 53,
     "metadata": {},
     "output_type": "execute_result"
    }
   ],
   "source": [
    "# Unindo a tabela de faturamento com os dados dos diretores\n",
    "\n",
    "gross_director = imdb_usa[['director_name', 'gross']].set_index('director_name').join(filmes_por_diretor, on='director_name')\n",
    "gross_director.columns = ['faturamento', 'filmes_produzidos']\n",
    "\n",
    "# Alinhando o index\n",
    "gross_director = gross_director.reset_index()\n",
    "\n",
    "gross_director.head()"
   ]
  },
  {
   "cell_type": "code",
   "execution_count": 54,
   "metadata": {},
   "outputs": [
    {
     "data": {
      "text/plain": [
       "<matplotlib.axes._subplots.AxesSubplot at 0xc0dec30>"
      ]
     },
     "execution_count": 54,
     "metadata": {},
     "output_type": "execute_result"
    },
    {
     "data": {
      "image/png": "[encoded data removed]",
      "text/plain": [
       "<Figure size 432x288 with 1 Axes>"
      ]
     },
     "metadata": {},
     "output_type": "display_data"
    }
   ],
   "source": [
    "# Relação Faturamento/Diretor/Quantidade filmes produzidos\n",
    "\n",
    "sns.scatterplot(x='filmes_produzidos', y='faturamento', data=gross_director)"
   ]
  },
  {
   "cell_type": "markdown",
   "metadata": {},
   "source": [
    "Essa imagem aparentemente não é muito conclusiva, então não conseguimos inferir tantas informações.\n",
    "\n",
    "---\n",
    "\n",
    "## 😎 Plotando vários gráficos de uma vez só\n",
    "Para finalizar, que tal realizar uma análise das correlações dos dados?\n",
    "\n",
    "Existem várias formas de calcular a correlação, esse é um assunto denso.\n",
    "\n",
    "Você pode ler mais sobre essas métricas neste [link](https://pt.wikipedia.org/wiki/Correla%C3%A7%C3%A3o).\n",
    "\n",
    "Vamos então inciar a análise das correlações plotando o pairplot."
   ]
  },
  {
   "cell_type": "code",
   "execution_count": 56,
   "metadata": {},
   "outputs": [
    {
     "data": {
      "text/plain": [
       "<seaborn.axisgrid.PairGrid at 0x105bbaf0>"
      ]
     },
     "execution_count": 56,
     "metadata": {},
     "output_type": "execute_result"
    },
    {
     "data": {
      "image/png": "[encoded data removed]",
      "text/plain": [
       "<Figure size 720x720 with 20 Axes>"
      ]
     },
     "metadata": {},
     "output_type": "display_data"
    }
   ],
   "source": [
    "# Plotando todas as informações (ano do filme, faturamento, orçamento, lucro)\n",
    "# Utilizando o gafico pairplot do seaborn\n",
    "\n",
    "sns.pairplot(data = imdb_usa[[\"gross\", \"budget\", \"lucro\", \"title_year\"]])"
   ]
  },
  {
   "cell_type": "markdown",
   "metadata": {},
   "source": [
    "O pairplot mostra muita informação e a melhor forma de você entender é assistindo as conclusões que tiramos sobre esses gráficos na vídeoaula.\n",
    "\n",
    "---\n",
    "Embora plotamos um monte de informação, não necessariamente reduzimos a correlação em um número para simplificar a análise. Vamos fazer isso com a ajuda do ``.corr()`` do [``pandas``](https://pandas.pydata.org/pandas-docs/stable/reference/api/pandas.DataFrame.corr.html)."
   ]
  },
  {
   "cell_type": "code",
   "execution_count": 57,
   "metadata": {},
   "outputs": [
    {
     "data": {
      "text/html": [
       "<div>\n",
       "<style scoped>\n",
       "    .dataframe tbody tr th:only-of-type {\n",
       "        vertical-align: middle;\n",
       "    }\n",
       "\n",
       "    .dataframe tbody tr th {\n",
       "        vertical-align: top;\n",
       "    }\n",
       "\n",
       "    .dataframe thead th {\n",
       "        text-align: right;\n",
       "    }\n",
       "</style>\n",
       "<table border=\"1\" class=\"dataframe\">\n",
       "  <thead>\n",
       "    <tr style=\"text-align: right;\">\n",
       "      <th></th>\n",
       "      <th>gross</th>\n",
       "      <th>budget</th>\n",
       "      <th>lucro</th>\n",
       "      <th>title_year</th>\n",
       "    </tr>\n",
       "  </thead>\n",
       "  <tbody>\n",
       "    <tr>\n",
       "      <th>gross</th>\n",
       "      <td>1.000000</td>\n",
       "      <td>0.645673</td>\n",
       "      <td>0.797037</td>\n",
       "      <td>0.034827</td>\n",
       "    </tr>\n",
       "    <tr>\n",
       "      <th>budget</th>\n",
       "      <td>0.645673</td>\n",
       "      <td>1.000000</td>\n",
       "      <td>0.053455</td>\n",
       "      <td>0.229453</td>\n",
       "    </tr>\n",
       "    <tr>\n",
       "      <th>lucro</th>\n",
       "      <td>0.797037</td>\n",
       "      <td>0.053455</td>\n",
       "      <td>1.000000</td>\n",
       "      <td>-0.123035</td>\n",
       "    </tr>\n",
       "    <tr>\n",
       "      <th>title_year</th>\n",
       "      <td>0.034827</td>\n",
       "      <td>0.229453</td>\n",
       "      <td>-0.123035</td>\n",
       "      <td>1.000000</td>\n",
       "    </tr>\n",
       "  </tbody>\n",
       "</table>\n",
       "</div>"
      ],
      "text/plain": [
       "               gross    budget     lucro  title_year\n",
       "gross       1.000000  0.645673  0.797037    0.034827\n",
       "budget      0.645673  1.000000  0.053455    0.229453\n",
       "lucro       0.797037  0.053455  1.000000   -0.123035\n",
       "title_year  0.034827  0.229453 -0.123035    1.000000"
      ]
     },
     "execution_count": 57,
     "metadata": {},
     "output_type": "execute_result"
    }
   ],
   "source": [
    "# Realizando uma Correlação dos dados\n",
    "\n",
    "imdb_usa[['gross', 'budget', 'lucro', 'title_year']].corr()"
   ]
  },
  {
   "cell_type": "markdown",
   "metadata": {},
   "source": [
    "``A correlação é uma métrica que vai de 1 a -1.``\n",
    "\n",
    "- Quando a **correlação é 1**, dizemos que é totalmente correlacionada (relação linear perfeita e positiva), ou seja se uma variável aumenta em 10 a outra também irá aumentar em 10.\n",
    "\n",
    "\n",
    "- Quando o valor da **correlação é -1**, também temos variáveis totalmente correlacionda, só que de maneira negativa (relação linear perfeita negativa), neste caso, se uma variável aumenta em 10 a outra reduz em 10.\n",
    "\n",
    "\n",
    "- Agora quando a **correlação é 0**, temos a inexistência de correlação, ou seja, uma variável não tem influêcia sobre a outra.\n",
    "\n",
    "----\n",
    "Veja que ``lucro`` e ``gross`` tem uma correlação alta, o que indica que quanto maior o ``orçamento`` maior o ``lucro`` \n",
    "\n",
    "**(mas repare que a correlação não é perfeita)**\n",
    "\n",
    "---\n",
    "Já o ``title_years`` e ``lucro`` tem correlação negativa, mas muito perto de zero \n",
    "\n",
    "**(ou seja quase não tem correlação)**"
   ]
  },
  {
   "cell_type": "markdown",
   "metadata": {},
   "source": []
  }
 ],
 "metadata": {
  "kernelspec": {
   "display_name": "Python 3",
   "language": "python",
   "name": "python3"
  },
  "language_info": {
   "codemirror_mode": {
    "name": "ipython",
    "version": 3
   },
   "file_extension": ".py",
   "mimetype": "text/x-python",
   "name": "python",
   "nbconvert_exporter": "python",
   "pygments_lexer": "ipython3",
   "version": "3.7.2"
  }
 },
 "nbformat": 4,
 "nbformat_minor": 2
}
