{
 "cells": [
  {
   "cell_type": "markdown",
   "metadata": {},
   "source": [
    "# Aula 02 - Quarentena Dados 🎲"
   ]
  },
  {
   "cell_type": "markdown",
   "metadata": {},
   "source": [
    "## Temas tratados durante a aula:\n",
    "\n",
    "- Realizando os Desafios\n",
    "- Boas práticas com visualização de Dados\n",
    "- O que é esse tal de Boxplot?\n",
    "\n",
    "---\n",
    "Relembrando os dados configurados da [Aula 01](https://github.com/littlebru/Quarentena-Dados/blob/master/Aula%2001%20-%20Python%2C%20Pandas%20e%20Colab.ipynb)"
   ]
  },
  {
   "cell_type": "code",
   "execution_count": 1,
   "metadata": {},
   "outputs": [],
   "source": [
    "import pandas as pd"
   ]
  },
  {
   "cell_type": "code",
   "execution_count": 2,
   "metadata": {},
   "outputs": [
    {
     "data": {
      "text/html": [
       "<div>\n",
       "<style scoped>\n",
       "    .dataframe tbody tr th:only-of-type {\n",
       "        vertical-align: middle;\n",
       "    }\n",
       "\n",
       "    .dataframe tbody tr th {\n",
       "        vertical-align: top;\n",
       "    }\n",
       "\n",
       "    .dataframe thead th {\n",
       "        text-align: right;\n",
       "    }\n",
       "</style>\n",
       "<table border=\"1\" class=\"dataframe\">\n",
       "  <thead>\n",
       "    <tr style=\"text-align: right;\">\n",
       "      <th></th>\n",
       "      <th>filmeId</th>\n",
       "      <th>titulo</th>\n",
       "      <th>genero</th>\n",
       "    </tr>\n",
       "  </thead>\n",
       "  <tbody>\n",
       "    <tr>\n",
       "      <th>0</th>\n",
       "      <td>1</td>\n",
       "      <td>Toy Story (1995)</td>\n",
       "      <td>Adventure|Animation|Children|Comedy|Fantasy</td>\n",
       "    </tr>\n",
       "    <tr>\n",
       "      <th>1</th>\n",
       "      <td>2</td>\n",
       "      <td>Jumanji (1995)</td>\n",
       "      <td>Adventure|Children|Fantasy</td>\n",
       "    </tr>\n",
       "    <tr>\n",
       "      <th>2</th>\n",
       "      <td>3</td>\n",
       "      <td>Grumpier Old Men (1995)</td>\n",
       "      <td>Comedy|Romance</td>\n",
       "    </tr>\n",
       "    <tr>\n",
       "      <th>3</th>\n",
       "      <td>4</td>\n",
       "      <td>Waiting to Exhale (1995)</td>\n",
       "      <td>Comedy|Drama|Romance</td>\n",
       "    </tr>\n",
       "    <tr>\n",
       "      <th>4</th>\n",
       "      <td>5</td>\n",
       "      <td>Father of the Bride Part II (1995)</td>\n",
       "      <td>Comedy</td>\n",
       "    </tr>\n",
       "  </tbody>\n",
       "</table>\n",
       "</div>"
      ],
      "text/plain": [
       "   filmeId                              titulo  \\\n",
       "0        1                    Toy Story (1995)   \n",
       "1        2                      Jumanji (1995)   \n",
       "2        3             Grumpier Old Men (1995)   \n",
       "3        4            Waiting to Exhale (1995)   \n",
       "4        5  Father of the Bride Part II (1995)   \n",
       "\n",
       "                                        genero  \n",
       "0  Adventure|Animation|Children|Comedy|Fantasy  \n",
       "1                   Adventure|Children|Fantasy  \n",
       "2                               Comedy|Romance  \n",
       "3                         Comedy|Drama|Romance  \n",
       "4                                       Comedy  "
      ]
     },
     "execution_count": 2,
     "metadata": {},
     "output_type": "execute_result"
    }
   ],
   "source": [
    "# Filmes é um dataframe\n",
    "filmes = pd.read_csv('https://gist.githubusercontent.com/littlebru/fe6f50293b186a804acb4c0bab0ed9f6/raw/df1a86e0a4c23fd91c811e7c822b0b53ae3b5972/movies.csv')\n",
    "\n",
    "# Traduzindo as colunas para o Portugues\n",
    "filmes.columns = ['filmeId', 'titulo', 'genero']\n",
    "\n",
    "# Mostrando os primeiros 5 valores da tabela\n",
    "filmes.head()"
   ]
  },
  {
   "cell_type": "markdown",
   "metadata": {},
   "source": [
    "---\n",
    "## Separando os generos para uma melhor visualização\n",
    "Podemos visualizar que nesta tabela existem *id dos filmes*, *títulos* e uma coluna com os *gêneros* de cada filme.\n",
    "\n",
    "Porém as categorias de gênero estão agrupadas em uma unica coluna e são separados por um *pipe* `` | `` ou barra vertical. \n",
    "\n",
    "Se eu quisesse procurar pela quantidade de gêneros existentes dentro da tabela, eu teria que separar cada um dos gêneros antes de realizar uma contagem.\n",
    "\n",
    "Com a biblioteca do *``pandas``* é possivel separar os gêneros e verificar quais deles existem dentro da coluna ``genero`` na linha de cada filme.\n",
    "\n",
    "(Tudo isso em uma unica linha 😏)\n",
    "\n",
    "### Desafio do Professor [Allan Spadini](https://twitter.com/allanspadini)\n",
    "Descobrir os generos dos filmes (quais são eles, únicos).\n"
   ]
  },
  {
   "cell_type": "code",
   "execution_count": 3,
   "metadata": {},
   "outputs": [
    {
     "data": {
      "text/html": [
       "<div>\n",
       "<style scoped>\n",
       "    .dataframe tbody tr th:only-of-type {\n",
       "        vertical-align: middle;\n",
       "    }\n",
       "\n",
       "    .dataframe tbody tr th {\n",
       "        vertical-align: top;\n",
       "    }\n",
       "\n",
       "    .dataframe thead th {\n",
       "        text-align: right;\n",
       "    }\n",
       "</style>\n",
       "<table border=\"1\" class=\"dataframe\">\n",
       "  <thead>\n",
       "    <tr style=\"text-align: right;\">\n",
       "      <th></th>\n",
       "      <th>(no genres listed)</th>\n",
       "      <th>Action</th>\n",
       "      <th>Adventure</th>\n",
       "      <th>Animation</th>\n",
       "      <th>Children</th>\n",
       "      <th>Comedy</th>\n",
       "      <th>Crime</th>\n",
       "      <th>Documentary</th>\n",
       "      <th>Drama</th>\n",
       "      <th>Fantasy</th>\n",
       "      <th>Film-Noir</th>\n",
       "      <th>Horror</th>\n",
       "      <th>IMAX</th>\n",
       "      <th>Musical</th>\n",
       "      <th>Mystery</th>\n",
       "      <th>Romance</th>\n",
       "      <th>Sci-Fi</th>\n",
       "      <th>Thriller</th>\n",
       "      <th>War</th>\n",
       "      <th>Western</th>\n",
       "    </tr>\n",
       "  </thead>\n",
       "  <tbody>\n",
       "    <tr>\n",
       "      <th>0</th>\n",
       "      <td>0</td>\n",
       "      <td>0</td>\n",
       "      <td>1</td>\n",
       "      <td>1</td>\n",
       "      <td>1</td>\n",
       "      <td>1</td>\n",
       "      <td>0</td>\n",
       "      <td>0</td>\n",
       "      <td>0</td>\n",
       "      <td>1</td>\n",
       "      <td>0</td>\n",
       "      <td>0</td>\n",
       "      <td>0</td>\n",
       "      <td>0</td>\n",
       "      <td>0</td>\n",
       "      <td>0</td>\n",
       "      <td>0</td>\n",
       "      <td>0</td>\n",
       "      <td>0</td>\n",
       "      <td>0</td>\n",
       "    </tr>\n",
       "    <tr>\n",
       "      <th>1</th>\n",
       "      <td>0</td>\n",
       "      <td>0</td>\n",
       "      <td>1</td>\n",
       "      <td>0</td>\n",
       "      <td>1</td>\n",
       "      <td>0</td>\n",
       "      <td>0</td>\n",
       "      <td>0</td>\n",
       "      <td>0</td>\n",
       "      <td>1</td>\n",
       "      <td>0</td>\n",
       "      <td>0</td>\n",
       "      <td>0</td>\n",
       "      <td>0</td>\n",
       "      <td>0</td>\n",
       "      <td>0</td>\n",
       "      <td>0</td>\n",
       "      <td>0</td>\n",
       "      <td>0</td>\n",
       "      <td>0</td>\n",
       "    </tr>\n",
       "    <tr>\n",
       "      <th>2</th>\n",
       "      <td>0</td>\n",
       "      <td>0</td>\n",
       "      <td>0</td>\n",
       "      <td>0</td>\n",
       "      <td>0</td>\n",
       "      <td>1</td>\n",
       "      <td>0</td>\n",
       "      <td>0</td>\n",
       "      <td>0</td>\n",
       "      <td>0</td>\n",
       "      <td>0</td>\n",
       "      <td>0</td>\n",
       "      <td>0</td>\n",
       "      <td>0</td>\n",
       "      <td>0</td>\n",
       "      <td>1</td>\n",
       "      <td>0</td>\n",
       "      <td>0</td>\n",
       "      <td>0</td>\n",
       "      <td>0</td>\n",
       "    </tr>\n",
       "    <tr>\n",
       "      <th>3</th>\n",
       "      <td>0</td>\n",
       "      <td>0</td>\n",
       "      <td>0</td>\n",
       "      <td>0</td>\n",
       "      <td>0</td>\n",
       "      <td>1</td>\n",
       "      <td>0</td>\n",
       "      <td>0</td>\n",
       "      <td>1</td>\n",
       "      <td>0</td>\n",
       "      <td>0</td>\n",
       "      <td>0</td>\n",
       "      <td>0</td>\n",
       "      <td>0</td>\n",
       "      <td>0</td>\n",
       "      <td>1</td>\n",
       "      <td>0</td>\n",
       "      <td>0</td>\n",
       "      <td>0</td>\n",
       "      <td>0</td>\n",
       "    </tr>\n",
       "    <tr>\n",
       "      <th>4</th>\n",
       "      <td>0</td>\n",
       "      <td>0</td>\n",
       "      <td>0</td>\n",
       "      <td>0</td>\n",
       "      <td>0</td>\n",
       "      <td>1</td>\n",
       "      <td>0</td>\n",
       "      <td>0</td>\n",
       "      <td>0</td>\n",
       "      <td>0</td>\n",
       "      <td>0</td>\n",
       "      <td>0</td>\n",
       "      <td>0</td>\n",
       "      <td>0</td>\n",
       "      <td>0</td>\n",
       "      <td>0</td>\n",
       "      <td>0</td>\n",
       "      <td>0</td>\n",
       "      <td>0</td>\n",
       "      <td>0</td>\n",
       "    </tr>\n",
       "    <tr>\n",
       "      <th>5</th>\n",
       "      <td>0</td>\n",
       "      <td>1</td>\n",
       "      <td>0</td>\n",
       "      <td>0</td>\n",
       "      <td>0</td>\n",
       "      <td>0</td>\n",
       "      <td>1</td>\n",
       "      <td>0</td>\n",
       "      <td>0</td>\n",
       "      <td>0</td>\n",
       "      <td>0</td>\n",
       "      <td>0</td>\n",
       "      <td>0</td>\n",
       "      <td>0</td>\n",
       "      <td>0</td>\n",
       "      <td>0</td>\n",
       "      <td>0</td>\n",
       "      <td>1</td>\n",
       "      <td>0</td>\n",
       "      <td>0</td>\n",
       "    </tr>\n",
       "    <tr>\n",
       "      <th>6</th>\n",
       "      <td>0</td>\n",
       "      <td>0</td>\n",
       "      <td>0</td>\n",
       "      <td>0</td>\n",
       "      <td>0</td>\n",
       "      <td>1</td>\n",
       "      <td>0</td>\n",
       "      <td>0</td>\n",
       "      <td>0</td>\n",
       "      <td>0</td>\n",
       "      <td>0</td>\n",
       "      <td>0</td>\n",
       "      <td>0</td>\n",
       "      <td>0</td>\n",
       "      <td>0</td>\n",
       "      <td>1</td>\n",
       "      <td>0</td>\n",
       "      <td>0</td>\n",
       "      <td>0</td>\n",
       "      <td>0</td>\n",
       "    </tr>\n",
       "    <tr>\n",
       "      <th>7</th>\n",
       "      <td>0</td>\n",
       "      <td>0</td>\n",
       "      <td>1</td>\n",
       "      <td>0</td>\n",
       "      <td>1</td>\n",
       "      <td>0</td>\n",
       "      <td>0</td>\n",
       "      <td>0</td>\n",
       "      <td>0</td>\n",
       "      <td>0</td>\n",
       "      <td>0</td>\n",
       "      <td>0</td>\n",
       "      <td>0</td>\n",
       "      <td>0</td>\n",
       "      <td>0</td>\n",
       "      <td>0</td>\n",
       "      <td>0</td>\n",
       "      <td>0</td>\n",
       "      <td>0</td>\n",
       "      <td>0</td>\n",
       "    </tr>\n",
       "    <tr>\n",
       "      <th>8</th>\n",
       "      <td>0</td>\n",
       "      <td>1</td>\n",
       "      <td>0</td>\n",
       "      <td>0</td>\n",
       "      <td>0</td>\n",
       "      <td>0</td>\n",
       "      <td>0</td>\n",
       "      <td>0</td>\n",
       "      <td>0</td>\n",
       "      <td>0</td>\n",
       "      <td>0</td>\n",
       "      <td>0</td>\n",
       "      <td>0</td>\n",
       "      <td>0</td>\n",
       "      <td>0</td>\n",
       "      <td>0</td>\n",
       "      <td>0</td>\n",
       "      <td>0</td>\n",
       "      <td>0</td>\n",
       "      <td>0</td>\n",
       "    </tr>\n",
       "    <tr>\n",
       "      <th>9</th>\n",
       "      <td>0</td>\n",
       "      <td>1</td>\n",
       "      <td>1</td>\n",
       "      <td>0</td>\n",
       "      <td>0</td>\n",
       "      <td>0</td>\n",
       "      <td>0</td>\n",
       "      <td>0</td>\n",
       "      <td>0</td>\n",
       "      <td>0</td>\n",
       "      <td>0</td>\n",
       "      <td>0</td>\n",
       "      <td>0</td>\n",
       "      <td>0</td>\n",
       "      <td>0</td>\n",
       "      <td>0</td>\n",
       "      <td>0</td>\n",
       "      <td>1</td>\n",
       "      <td>0</td>\n",
       "      <td>0</td>\n",
       "    </tr>\n",
       "    <tr>\n",
       "      <th>10</th>\n",
       "      <td>0</td>\n",
       "      <td>0</td>\n",
       "      <td>0</td>\n",
       "      <td>0</td>\n",
       "      <td>0</td>\n",
       "      <td>1</td>\n",
       "      <td>0</td>\n",
       "      <td>0</td>\n",
       "      <td>1</td>\n",
       "      <td>0</td>\n",
       "      <td>0</td>\n",
       "      <td>0</td>\n",
       "      <td>0</td>\n",
       "      <td>0</td>\n",
       "      <td>0</td>\n",
       "      <td>1</td>\n",
       "      <td>0</td>\n",
       "      <td>0</td>\n",
       "      <td>0</td>\n",
       "      <td>0</td>\n",
       "    </tr>\n",
       "    <tr>\n",
       "      <th>11</th>\n",
       "      <td>0</td>\n",
       "      <td>0</td>\n",
       "      <td>0</td>\n",
       "      <td>0</td>\n",
       "      <td>0</td>\n",
       "      <td>1</td>\n",
       "      <td>0</td>\n",
       "      <td>0</td>\n",
       "      <td>0</td>\n",
       "      <td>0</td>\n",
       "      <td>0</td>\n",
       "      <td>1</td>\n",
       "      <td>0</td>\n",
       "      <td>0</td>\n",
       "      <td>0</td>\n",
       "      <td>0</td>\n",
       "      <td>0</td>\n",
       "      <td>0</td>\n",
       "      <td>0</td>\n",
       "      <td>0</td>\n",
       "    </tr>\n",
       "    <tr>\n",
       "      <th>12</th>\n",
       "      <td>0</td>\n",
       "      <td>0</td>\n",
       "      <td>1</td>\n",
       "      <td>1</td>\n",
       "      <td>1</td>\n",
       "      <td>0</td>\n",
       "      <td>0</td>\n",
       "      <td>0</td>\n",
       "      <td>0</td>\n",
       "      <td>0</td>\n",
       "      <td>0</td>\n",
       "      <td>0</td>\n",
       "      <td>0</td>\n",
       "      <td>0</td>\n",
       "      <td>0</td>\n",
       "      <td>0</td>\n",
       "      <td>0</td>\n",
       "      <td>0</td>\n",
       "      <td>0</td>\n",
       "      <td>0</td>\n",
       "    </tr>\n",
       "    <tr>\n",
       "      <th>13</th>\n",
       "      <td>0</td>\n",
       "      <td>0</td>\n",
       "      <td>0</td>\n",
       "      <td>0</td>\n",
       "      <td>0</td>\n",
       "      <td>0</td>\n",
       "      <td>0</td>\n",
       "      <td>0</td>\n",
       "      <td>1</td>\n",
       "      <td>0</td>\n",
       "      <td>0</td>\n",
       "      <td>0</td>\n",
       "      <td>0</td>\n",
       "      <td>0</td>\n",
       "      <td>0</td>\n",
       "      <td>0</td>\n",
       "      <td>0</td>\n",
       "      <td>0</td>\n",
       "      <td>0</td>\n",
       "      <td>0</td>\n",
       "    </tr>\n",
       "    <tr>\n",
       "      <th>14</th>\n",
       "      <td>0</td>\n",
       "      <td>1</td>\n",
       "      <td>1</td>\n",
       "      <td>0</td>\n",
       "      <td>0</td>\n",
       "      <td>0</td>\n",
       "      <td>0</td>\n",
       "      <td>0</td>\n",
       "      <td>0</td>\n",
       "      <td>0</td>\n",
       "      <td>0</td>\n",
       "      <td>0</td>\n",
       "      <td>0</td>\n",
       "      <td>0</td>\n",
       "      <td>0</td>\n",
       "      <td>1</td>\n",
       "      <td>0</td>\n",
       "      <td>0</td>\n",
       "      <td>0</td>\n",
       "      <td>0</td>\n",
       "    </tr>\n",
       "  </tbody>\n",
       "</table>\n",
       "</div>"
      ],
      "text/plain": [
       "    (no genres listed)  Action  Adventure  Animation  Children  Comedy  Crime  \\\n",
       "0                    0       0          1          1         1       1      0   \n",
       "1                    0       0          1          0         1       0      0   \n",
       "2                    0       0          0          0         0       1      0   \n",
       "3                    0       0          0          0         0       1      0   \n",
       "4                    0       0          0          0         0       1      0   \n",
       "5                    0       1          0          0         0       0      1   \n",
       "6                    0       0          0          0         0       1      0   \n",
       "7                    0       0          1          0         1       0      0   \n",
       "8                    0       1          0          0         0       0      0   \n",
       "9                    0       1          1          0         0       0      0   \n",
       "10                   0       0          0          0         0       1      0   \n",
       "11                   0       0          0          0         0       1      0   \n",
       "12                   0       0          1          1         1       0      0   \n",
       "13                   0       0          0          0         0       0      0   \n",
       "14                   0       1          1          0         0       0      0   \n",
       "\n",
       "    Documentary  Drama  Fantasy  Film-Noir  Horror  IMAX  Musical  Mystery  \\\n",
       "0             0      0        1          0       0     0        0        0   \n",
       "1             0      0        1          0       0     0        0        0   \n",
       "2             0      0        0          0       0     0        0        0   \n",
       "3             0      1        0          0       0     0        0        0   \n",
       "4             0      0        0          0       0     0        0        0   \n",
       "5             0      0        0          0       0     0        0        0   \n",
       "6             0      0        0          0       0     0        0        0   \n",
       "7             0      0        0          0       0     0        0        0   \n",
       "8             0      0        0          0       0     0        0        0   \n",
       "9             0      0        0          0       0     0        0        0   \n",
       "10            0      1        0          0       0     0        0        0   \n",
       "11            0      0        0          0       1     0        0        0   \n",
       "12            0      0        0          0       0     0        0        0   \n",
       "13            0      1        0          0       0     0        0        0   \n",
       "14            0      0        0          0       0     0        0        0   \n",
       "\n",
       "    Romance  Sci-Fi  Thriller  War  Western  \n",
       "0         0       0         0    0        0  \n",
       "1         0       0         0    0        0  \n",
       "2         1       0         0    0        0  \n",
       "3         1       0         0    0        0  \n",
       "4         0       0         0    0        0  \n",
       "5         0       0         1    0        0  \n",
       "6         1       0         0    0        0  \n",
       "7         0       0         0    0        0  \n",
       "8         0       0         0    0        0  \n",
       "9         0       0         1    0        0  \n",
       "10        1       0         0    0        0  \n",
       "11        0       0         0    0        0  \n",
       "12        0       0         0    0        0  \n",
       "13        0       0         0    0        0  \n",
       "14        1       0         0    0        0  "
      ]
     },
     "execution_count": 3,
     "metadata": {},
     "output_type": "execute_result"
    }
   ],
   "source": [
    "# Pegando os valores da coluna 'genero'\n",
    "# Definindo que o separador doe elementos é o pipe '|'\n",
    "# Imprimindo apenas os 15 primeiros (para demonstração)\n",
    "\n",
    "filmes['genero'].str.get_dummies('|').head(15)"
   ]
  },
  {
   "cell_type": "markdown",
   "metadata": {},
   "source": [
    "---\n",
    "Como você percebeu, a saída é um [DataFrame](https://pandas.pydata.org/pandas-docs/stable/reference/api/pandas.DataFrame.html), cada linha do DataFrame corresponde a respectiva linha da coluna de gênero da tabela de filmes, cada coluna corresponde a um gênero.\n",
    "\n",
    "``👀 Repare que cada gênero único virou uma coluna no DataFrame``"
   ]
  },
  {
   "cell_type": "markdown",
   "metadata": {},
   "source": [
    "---\n",
    "### Como estes valores 0/1 estão sendo preenchidos na tabela?\n",
    "Para explicar vou dar um exemplo:\n",
    "\n",
    "Vamos pegar os gêneros do filme **Toy Story** ``Adventure|Animation|Children|Comedy|Fantasy``\n",
    "\n",
    "Na coluna dos respectivos gêneros (dentro do DataFrame) o valor será 1, para todos os outros gêneros que não são generos de Toy Story, o valor será 0.\n",
    "#### Resumindo:\n",
    "``Se o nome da coluna pertence a algum gênero de determinado filme, o valor será 1 , caso contrário será 0.``\n",
    "\n",
    "---"
   ]
  },
  {
   "cell_type": "markdown",
   "metadata": {},
   "source": [
    "## Quantas vezes cada gênero aparece na tabela e filmes?\n",
    "Conseguimos separar os gêneros para uma melhor visualização dos dados.\n",
    "\n",
    "Agora, podemos contar quantas vezes eles aparecem dentro da tabela de filmes.\n",
    "\n",
    "###  Desafio da Professora [Thais André](https://twitter.com/thais_tandre)\n",
    "Contar o número de aparições de cada genero."
   ]
  },
  {
   "cell_type": "code",
   "execution_count": 4,
   "metadata": {},
   "outputs": [
    {
     "data": {
      "text/plain": [
       "(no genres listed)      34\n",
       "Action                1828\n",
       "Adventure             1263\n",
       "Animation              611\n",
       "Children               664\n",
       "Comedy                3756\n",
       "Crime                 1199\n",
       "Documentary            440\n",
       "Drama                 4361\n",
       "Fantasy                779\n",
       "Film-Noir               87\n",
       "Horror                 978\n",
       "IMAX                   158\n",
       "Musical                334\n",
       "Mystery                573\n",
       "Romance               1596\n",
       "Sci-Fi                 980\n",
       "Thriller              1894\n",
       "War                    382\n",
       "Western                167\n",
       "dtype: int64"
      ]
     },
     "execution_count": 4,
     "metadata": {},
     "output_type": "execute_result"
    }
   ],
   "source": [
    "# Realizando uma soma, que conta quantos 1 tem em cada coluna do DataFrame\n",
    "\n",
    "filmes['genero'].str.get_dummies('|').sum()"
   ]
  },
  {
   "cell_type": "markdown",
   "metadata": {},
   "source": [
    "## Melhorando a visualização dos dados da tabela\n",
    "Vamos ordenar a tabela acima para ficar mais facil de responder perguntas como 'Qual é o gênero com mais filmes produzidos', 'Qual o Segundo?'\n",
    "\n",
    "Precisamos ter uma melhor visualização dos dados e podemos ordena-los com o método ``.sort_values()``"
   ]
  },
  {
   "cell_type": "code",
   "execution_count": 5,
   "metadata": {},
   "outputs": [
    {
     "data": {
      "text/plain": [
       "Drama                 4361\n",
       "Comedy                3756\n",
       "Thriller              1894\n",
       "Action                1828\n",
       "Romance               1596\n",
       "Adventure             1263\n",
       "Crime                 1199\n",
       "Sci-Fi                 980\n",
       "Horror                 978\n",
       "Fantasy                779\n",
       "Children               664\n",
       "Animation              611\n",
       "Mystery                573\n",
       "Documentary            440\n",
       "War                    382\n",
       "Musical                334\n",
       "Western                167\n",
       "IMAX                   158\n",
       "Film-Noir               87\n",
       "(no genres listed)      34\n",
       "dtype: int64"
      ]
     },
     "execution_count": 5,
     "metadata": {},
     "output_type": "execute_result"
    }
   ],
   "source": [
    "# Ordenando a tabela gerada em ordem Decrescente\n",
    "\n",
    "filmes['genero'].str.get_dummies('|').sum().sort_values(ascending=False)"
   ]
  },
  {
   "cell_type": "markdown",
   "metadata": {},
   "source": [
    "---\n",
    "## Melhorando a visualização das informações com GRÁFICOS!!\n",
    "\n",
    "Podemos deixar a leitura dos dados ainda melhor, com uma imagem, ou melhor... com um gráfico 😏.\n",
    "\n",
    "### Desafio do Instrutor [Guilherme Silveira](https://twitter.com/guilhermecaelum)\n",
    "Plotar o gráfico de aparições de cada genero. Pode ser um gráfico de tipo igual a barra."
   ]
  },
  {
   "cell_type": "code",
   "execution_count": 31,
   "metadata": {},
   "outputs": [
    {
     "data": {
      "text/plain": [
       "<matplotlib.axes._subplots.AxesSubplot at 0xeba6c50>"
      ]
     },
     "execution_count": 31,
     "metadata": {},
     "output_type": "execute_result"
    },
    {
     "data": {
      "image/png": "[encoded data removed]",
      "text/plain": [
       "<Figure size 432x288 with 1 Axes>"
      ]
     },
     "metadata": {},
     "output_type": "display_data"
    }
   ],
   "source": [
    "# Plotando um gráfico de linha (Poxa, ficou confuso né?)\n",
    "\n",
    "filmes[\"genero\"].str.get_dummies('|').sum().sort_values(ascending=False).plot()"
   ]
  },
  {
   "cell_type": "markdown",
   "metadata": {},
   "source": [
    "Acima temos um gráfico de linhas que é geado por padrão pelo comando ``.plot()`` do pandas, quando não se passa parâmetro algum.\n",
    "\n",
    "Este tipo de gráfico não é recomendável para os tipos de dados que estamos trabalhando.\n",
    "\n",
    "Isso nos ensina que, não adianta só plotar uma imagem, é preciso definir os tipos do gráfico que você quer gerar para ser condinzente com os tipos de dados que você esta tratando."
   ]
  },
  {
   "cell_type": "markdown",
   "metadata": {},
   "source": [
    "---\n",
    "## Gerando o famoso gráfico de Pizza/Torta\n",
    "Ja que o gráfico de linhas não nos ajudou na interpretação dos dados, podemos tentar com um outro tipo de gráfico, um bem conhecido, o gráfico de Pizza.\n",
    "\n",
    "Será que vai melhorar?😐\n",
    "\n"
   ]
  },
  {
   "cell_type": "code",
   "execution_count": 7,
   "metadata": {},
   "outputs": [],
   "source": [
    "import matplotlib.pyplot as plt"
   ]
  },
  {
   "cell_type": "code",
   "execution_count": 8,
   "metadata": {},
   "outputs": [
    {
     "data": {
      "image/png": "[encoded data removed]",
      "text/plain": [
       "<Figure size 576x576 with 1 Axes>"
      ]
     },
     "metadata": {},
     "output_type": "display_data"
    }
   ],
   "source": [
    "# Plotando um gráfico de Pizza/Torta\n",
    "\n",
    "filmes[\"genero\"].str.get_dummies('|').sum().sort_values(ascending=False).plot(\n",
    "    kind='pie', \n",
    "    title='Categorias de filmes e suas presenças relativas',\n",
    "    figsize=(8,8))\n",
    "plt.show()"
   ]
  },
  {
   "cell_type": "markdown",
   "metadata": {},
   "source": [
    "## Eai?😐\n",
    "Ainda não esta facil fazer a leitura dos dados, não é mesmo? \n",
    "\n",
    "Quais foram os problemas deste gráfico?\n",
    "- As cores começam a se repetir, dando a impressão de que um dado tem alguma relação com outro\n",
    "- Os generos com menos filmes estão ilegíveis\n",
    "- Você consegue me dizer se Thriller é maior do que Action? \n",
    "\n",
    "O gráfico de Pizza não torna as comparações claras e não deixa claro ou \"Transparente\" a quantidade dos dados de cada gênero da tabela\n",
    "\n",
    "Vamos utilizar um modelo mais adequado!\n",
    "\n",
    "---"
   ]
  },
  {
   "cell_type": "markdown",
   "metadata": {},
   "source": [
    "# Utilizando barras!\n",
    "Vamos então migrar de Pizza para Barra, alterando apenas o paramêtro ``kind`` do método ```.plot()``."
   ]
  },
  {
   "cell_type": "code",
   "execution_count": 9,
   "metadata": {},
   "outputs": [
    {
     "data": {
      "image/png": "[encoded data removed]",
      "text/plain": [
       "<Figure size 576x576 with 1 Axes>"
      ]
     },
     "metadata": {
      "needs_background": "light"
     },
     "output_type": "display_data"
    }
   ],
   "source": [
    "# Plotando um gráfico de Barras\n",
    "\n",
    "filmes[\"genero\"].str.get_dummies('|').sum().sort_values(ascending=False).plot(\n",
    "    kind='bar', \n",
    "    title='Filmes por categoria',\n",
    "    figsize=(8,8))\n",
    "plt.show()"
   ]
  },
  {
   "cell_type": "markdown",
   "metadata": {},
   "source": [
    "---\n",
    "O gráfico de Barra torna a análise bem mais simples, no gráfico de pizza era super difícil comparar ``Thriller`` e ``Action``, agora a comparação ficou fácil e conseguimos perceber o quão perto estão uma da outra\n",
    "\n",
    "A interpretação dos dados melhorou muito com essa visualização, mas podemos melhorar ainda mais. \n",
    "\n",
    "O que queremos é tornar evidênte os gêneros que tem a maior participação nos filmes em geral, ou seja transparecer através da imagem uma visão geral de proporcionalidade.\n",
    "\n",
    "Para tornar evidênte essa informação vamos utilizar algo \"semelhante\" a um [mapa de calor](https://en.wikipedia.org/wiki/Heat_map).\n",
    "\n",
    "----"
   ]
  },
  {
   "cell_type": "code",
   "execution_count": 10,
   "metadata": {},
   "outputs": [
    {
     "data": {
      "image/png": "[encoded data removed]",
      "text/plain": [
       "<Figure size 1152x576 with 1 Axes>"
      ]
     },
     "metadata": {},
     "output_type": "display_data"
    }
   ],
   "source": [
    "# Plotando o gráfico de barras com intensificação de cor\n",
    "# Utilizando uma paleta de cores com degradê de verde\n",
    "\n",
    "import seaborn as sns\n",
    "\n",
    "# Desenhando grades de referencia ao eixo X\n",
    "sns.set_style(\"whitegrid\")\n",
    "\n",
    "# Ordenando a tabela gerada em ordem Decrescente\n",
    "filmes_por_genero = filmes[\"genero\"].str.get_dummies('|').sum().sort_values(ascending=False)\n",
    "\n",
    "# Alterando a dimensão da imagem\n",
    "plt.figure(figsize=(16,8))\n",
    "\n",
    "# Gerando gráfico com seaborn\n",
    "sns.barplot(x=filmes_por_genero.index,\n",
    "            y=filmes_por_genero.values,\n",
    "            palette=sns.color_palette(\"BuGn_d\", n_colors=len(filmes_por_genero)))\n",
    "plt.show()"
   ]
  },
  {
   "cell_type": "markdown",
   "metadata": {},
   "source": [
    "## vamos descrever este código 😏\n",
    "* Primeiro, não plotamos mais a imagem com o ``.plot()`` do ``pandas``, vamos precisar de uma biblioteca de visualização mais poderosa para configurar nossa imagem, utilizamos o ``seaborn``.\n",
    "\n",
    "\n",
    "* Segundo, chamamos o ``barplot`` do ``seaborn``,adicionando uma paleta de cores, como um mapa de calor (com o parâmetro ``pallete``) no parâmetro ``n_color`` de ``sns.color_pallete()``.\n",
    "\n",
    "\n",
    "* Terceiro, adicionamos o ``sns.set_style(\"whitegrid\")`` para que todos os gráficos tenham a **linha de grade do eixo X** evidênte, facilitando a comparação entre as barras.\n",
    "\n",
    "\n",
    "* Quarto, dimensionamos a imagem com o ``figsize`` do método ``plt.figure()``, para que tenhamos um gráfico com muitas informações e agradável de analisar"
   ]
  },
  {
   "cell_type": "markdown",
   "metadata": {},
   "source": [
    "---\n",
    "## Visualização dos xticks (Legenda das barrinhas)\n",
    "Podemos melhorar ainda mais a visualização das legendas das barrinhas (chamados **xtickslabels**), rotacionando em um angulo mais agradável para leitura dos nomes.\n",
    "\n",
    "### Desafio do Instrutor [Guilherme Silveira](https://twitter.com/guilhermecaelum)\n",
    "Rotacionar os thicks (os nomes dos generos) do gráfico de barras verdes (o último), de forma a deixar as legendas mais legíveis."
   ]
  },
  {
   "cell_type": "code",
   "execution_count": 11,
   "metadata": {},
   "outputs": [
    {
     "data": {
      "image/png": "[encoded data removed]",
      "text/plain": [
       "<Figure size 1152x576 with 1 Axes>"
      ]
     },
     "metadata": {},
     "output_type": "display_data"
    }
   ],
   "source": [
    "import seaborn as sns\n",
    "\n",
    "# Este padrão é global, adiciona linhas de grade\n",
    "sns.set_style(\"whitegrid\")\n",
    "\n",
    "# Capturando dados crus da tabela\n",
    "filmes_por_genero = filmes['genero'].str.get_dummies('|').sum().sort_values(ascending=False)\n",
    "\n",
    "# Alterando a dimensaão da imagem\n",
    "plt.figure(figsize=(16,8))\n",
    "\n",
    "# Gerando gráfico com seaborn\n",
    "grafico_generos = sns.barplot(x=filmes_por_genero.index,\n",
    "            y=filmes_por_genero.values,\n",
    "            palette = sns.color_palette(\"Greens_d\", n_colors=len(filmes_por_genero) + 4))\n",
    "\n",
    "# Rotacionando a legenda das barras (xticks) para uma melhor visualização\n",
    "grafico_generos.set_xticklabels(grafico_generos.get_xticklabels(),\n",
    "                                rotation=45,\n",
    "                                horizontalalignment='right')\n",
    "\n",
    "plt.show()"
   ]
  },
  {
   "cell_type": "markdown",
   "metadata": {},
   "source": [
    "---\n",
    "## Retomando dados da [Aula 01](https://github.com/littlebru/Quarentena-Dados/blob/master/Aula%2001%20-%20Python%2C%20Pandas%20e%20Colab.ipynb)\n",
    "Vamos aqui continuar utilizando as bases de dados que manuseamos na aula 01 e agora gerar gráficos e muitas outras coisas com as informações."
   ]
  },
  {
   "cell_type": "code",
   "execution_count": 12,
   "metadata": {},
   "outputs": [
    {
     "data": {
      "text/html": [
       "<div>\n",
       "<style scoped>\n",
       "    .dataframe tbody tr th:only-of-type {\n",
       "        vertical-align: middle;\n",
       "    }\n",
       "\n",
       "    .dataframe tbody tr th {\n",
       "        vertical-align: top;\n",
       "    }\n",
       "\n",
       "    .dataframe thead th {\n",
       "        text-align: right;\n",
       "    }\n",
       "</style>\n",
       "<table border=\"1\" class=\"dataframe\">\n",
       "  <thead>\n",
       "    <tr style=\"text-align: right;\">\n",
       "      <th></th>\n",
       "      <th>usuarioId</th>\n",
       "      <th>filmeId</th>\n",
       "      <th>nota</th>\n",
       "      <th>momento</th>\n",
       "    </tr>\n",
       "  </thead>\n",
       "  <tbody>\n",
       "    <tr>\n",
       "      <th>0</th>\n",
       "      <td>1</td>\n",
       "      <td>1</td>\n",
       "      <td>4.0</td>\n",
       "      <td>964982703</td>\n",
       "    </tr>\n",
       "    <tr>\n",
       "      <th>1</th>\n",
       "      <td>1</td>\n",
       "      <td>3</td>\n",
       "      <td>4.0</td>\n",
       "      <td>964981247</td>\n",
       "    </tr>\n",
       "    <tr>\n",
       "      <th>2</th>\n",
       "      <td>1</td>\n",
       "      <td>6</td>\n",
       "      <td>4.0</td>\n",
       "      <td>964982224</td>\n",
       "    </tr>\n",
       "    <tr>\n",
       "      <th>3</th>\n",
       "      <td>1</td>\n",
       "      <td>47</td>\n",
       "      <td>5.0</td>\n",
       "      <td>964983815</td>\n",
       "    </tr>\n",
       "    <tr>\n",
       "      <th>4</th>\n",
       "      <td>1</td>\n",
       "      <td>50</td>\n",
       "      <td>5.0</td>\n",
       "      <td>964982931</td>\n",
       "    </tr>\n",
       "  </tbody>\n",
       "</table>\n",
       "</div>"
      ],
      "text/plain": [
       "   usuarioId  filmeId  nota    momento\n",
       "0          1        1   4.0  964982703\n",
       "1          1        3   4.0  964981247\n",
       "2          1        6   4.0  964982224\n",
       "3          1       47   5.0  964983815\n",
       "4          1       50   5.0  964982931"
      ]
     },
     "execution_count": 12,
     "metadata": {},
     "output_type": "execute_result"
    }
   ],
   "source": [
    "# Importando tabela de dados de avaliações\n",
    "avaliacoes = pd.read_csv('https://gist.githubusercontent.com/littlebru/b355db5f15177cab8d9207ed586600f2/raw/a3262f5c8d06a29323582acb2605798479a03aa7/ratings.csv')\n",
    "\n",
    "# Alterando o nome das colunas\n",
    "avaliacoes.columns = ['usuarioId', 'filmeId', 'nota', 'momento']\n",
    "\n",
    "avaliacoes.head()"
   ]
  },
  {
   "cell_type": "code",
   "execution_count": 13,
   "metadata": {},
   "outputs": [
    {
     "data": {
      "text/plain": [
       "filmeId\n",
       "1    3.883838\n",
       "2    3.369048\n",
       "3    3.520000\n",
       "4    2.600000\n",
       "5    3.565217\n",
       "Name: nota, dtype: float64"
      ]
     },
     "execution_count": 13,
     "metadata": {},
     "output_type": "execute_result"
    }
   ],
   "source": [
    "# Agrupando os valores da tabela e mostrando a média das notas por filme\n",
    "\n",
    "notas_medias_por_filme = avaliacoes.groupby(\"filmeId\")[\"nota\"].mean()\n",
    "notas_medias_por_filme.head()"
   ]
  },
  {
   "cell_type": "markdown",
   "metadata": {},
   "source": [
    "---\n",
    "## Visualização das Avaliações dos Filmes\n",
    "\n",
    "Será que conseguimos utilizar visualizações para entender melhor as notas de um filme?\n",
    "\n",
    "Na [aula 01](https://github.com/littlebru/Quarentena-Dados/blob/master/Aula%2001%20-%20Python%2C%20Pandas%20e%20Colab.ipynb) calculamos as notas médias por filmes, vamos dar uma olhada no resultado."
   ]
  },
  {
   "cell_type": "code",
   "execution_count": 14,
   "metadata": {},
   "outputs": [
    {
     "data": {
      "text/html": [
       "<div>\n",
       "<style scoped>\n",
       "    .dataframe tbody tr th:only-of-type {\n",
       "        vertical-align: middle;\n",
       "    }\n",
       "\n",
       "    .dataframe tbody tr th {\n",
       "        vertical-align: top;\n",
       "    }\n",
       "\n",
       "    .dataframe thead th {\n",
       "        text-align: right;\n",
       "    }\n",
       "</style>\n",
       "<table border=\"1\" class=\"dataframe\">\n",
       "  <thead>\n",
       "    <tr style=\"text-align: right;\">\n",
       "      <th></th>\n",
       "      <th>filmeId</th>\n",
       "      <th>titulo</th>\n",
       "      <th>genero</th>\n",
       "      <th>nota</th>\n",
       "    </tr>\n",
       "  </thead>\n",
       "  <tbody>\n",
       "    <tr>\n",
       "      <th>0</th>\n",
       "      <td>1</td>\n",
       "      <td>Toy Story (1995)</td>\n",
       "      <td>Adventure|Animation|Children|Comedy|Fantasy</td>\n",
       "      <td>3.883838</td>\n",
       "    </tr>\n",
       "    <tr>\n",
       "      <th>1</th>\n",
       "      <td>2</td>\n",
       "      <td>Jumanji (1995)</td>\n",
       "      <td>Adventure|Children|Fantasy</td>\n",
       "      <td>3.369048</td>\n",
       "    </tr>\n",
       "    <tr>\n",
       "      <th>2</th>\n",
       "      <td>3</td>\n",
       "      <td>Grumpier Old Men (1995)</td>\n",
       "      <td>Comedy|Romance</td>\n",
       "      <td>3.520000</td>\n",
       "    </tr>\n",
       "    <tr>\n",
       "      <th>3</th>\n",
       "      <td>4</td>\n",
       "      <td>Waiting to Exhale (1995)</td>\n",
       "      <td>Comedy|Drama|Romance</td>\n",
       "      <td>2.600000</td>\n",
       "    </tr>\n",
       "    <tr>\n",
       "      <th>4</th>\n",
       "      <td>5</td>\n",
       "      <td>Father of the Bride Part II (1995)</td>\n",
       "      <td>Comedy</td>\n",
       "      <td>3.565217</td>\n",
       "    </tr>\n",
       "  </tbody>\n",
       "</table>\n",
       "</div>"
      ],
      "text/plain": [
       "   filmeId                              titulo  \\\n",
       "0        1                    Toy Story (1995)   \n",
       "1        2                      Jumanji (1995)   \n",
       "2        3             Grumpier Old Men (1995)   \n",
       "3        4            Waiting to Exhale (1995)   \n",
       "4        5  Father of the Bride Part II (1995)   \n",
       "\n",
       "                                        genero      nota  \n",
       "0  Adventure|Animation|Children|Comedy|Fantasy  3.883838  \n",
       "1                   Adventure|Children|Fantasy  3.369048  \n",
       "2                               Comedy|Romance  3.520000  \n",
       "3                         Comedy|Drama|Romance  2.600000  \n",
       "4                                       Comedy  3.565217  "
      ]
     },
     "execution_count": 14,
     "metadata": {},
     "output_type": "execute_result"
    }
   ],
   "source": [
    "# Unindo os dados das duas tabelas\n",
    "# Se os dados se não estiverem com a mesma quantidade de informações\n",
    "# ordenar apenas pelos dados que ja foram avaliados\n",
    "\n",
    "filmes_com_media = filmes.join(notas_medias_por_filme, on=\"filmeId\")\n",
    "filmes_com_media.head()"
   ]
  },
  {
   "cell_type": "markdown",
   "metadata": {},
   "source": [
    "👀 Olhar apenas as médias pode ser um problema e para interpretar um pouco melhor os dados usamos o histograma das notas para comparar alguns filmes. \n",
    "\n",
    "Por exemplo, **Toy Story** e **Jumanji**"
   ]
  },
  {
   "cell_type": "code",
   "execution_count": 15,
   "metadata": {},
   "outputs": [
    {
     "name": "stdout",
     "output_type": "stream",
     "text": [
      "Média de notas: 3.8838383838383836\n"
     ]
    },
    {
     "data": {
      "text/plain": [
       "<matplotlib.axes._subplots.AxesSubplot at 0xee2d3d0>"
      ]
     },
     "execution_count": 15,
     "metadata": {},
     "output_type": "execute_result"
    },
    {
     "data": {
      "image/png": "[encoded data removed]",
      "text/plain": [
       "<Figure size 432x288 with 1 Axes>"
      ]
     },
     "metadata": {},
     "output_type": "display_data"
    }
   ],
   "source": [
    "notas_do_filme_1 = avaliacoes.query(\"filmeId==1\")[\"nota\"]\n",
    "\n",
    "# Imprimindo a média de notas do filme\n",
    "print(f'Média de notas: {notas_do_filme_1.mean()}')\n",
    "\n",
    "# Plotando gráfico com as notas do filme Toy Story\n",
    "notas_do_filme_1.plot(kind='hist')"
   ]
  },
  {
   "cell_type": "code",
   "execution_count": 16,
   "metadata": {},
   "outputs": [
    {
     "name": "stdout",
     "output_type": "stream",
     "text": [
      "Média de notas: 3.369047619047619\n"
     ]
    },
    {
     "data": {
      "text/plain": [
       "<matplotlib.axes._subplots.AxesSubplot at 0xece6cb0>"
      ]
     },
     "execution_count": 16,
     "metadata": {},
     "output_type": "execute_result"
    },
    {
     "data": {
      "image/png": "[encoded data removed]",
      "text/plain": [
       "<Figure size 432x288 with 1 Axes>"
      ]
     },
     "metadata": {},
     "output_type": "display_data"
    }
   ],
   "source": [
    "notas_do_filme_2 = avaliacoes.query(\"filmeId==2\")[\"nota\"]\n",
    "\n",
    "# Imprimindo a média de notas do filme\n",
    "print(f'Média de notas: {notas_do_filme_2.mean()}')\n",
    "\n",
    "# Plotando gráfico com as notas do filme Jumaiji\n",
    "notas_do_filme_2.plot(kind='hist')"
   ]
  },
  {
   "cell_type": "markdown",
   "metadata": {},
   "source": [
    "### Comportamentos diferentes\n",
    "##### ``Médias relativamente próximas mas comportamentos diferentes``\n",
    "ToyStory e Jumanji tem médias relativamente próximas mas tem um comportamento de notas diferentes, então, para nosso exemplo, as médias ajudam bastante mas esconde informações importantes sobre os dados."
   ]
  },
  {
   "cell_type": "markdown",
   "metadata": {},
   "source": [
    "---\n",
    "Vamos buscar dois filmes com médias muito mais próximas que Toy Story e Jumanji, para analisar outras métricas além das médias."
   ]
  },
  {
   "cell_type": "code",
   "execution_count": 17,
   "metadata": {},
   "outputs": [
    {
     "data": {
      "text/html": [
       "<div>\n",
       "<style scoped>\n",
       "    .dataframe tbody tr th:only-of-type {\n",
       "        vertical-align: middle;\n",
       "    }\n",
       "\n",
       "    .dataframe tbody tr th {\n",
       "        vertical-align: top;\n",
       "    }\n",
       "\n",
       "    .dataframe thead th {\n",
       "        text-align: right;\n",
       "    }\n",
       "</style>\n",
       "<table border=\"1\" class=\"dataframe\">\n",
       "  <thead>\n",
       "    <tr style=\"text-align: right;\">\n",
       "      <th></th>\n",
       "      <th>filmeId</th>\n",
       "      <th>titulo</th>\n",
       "      <th>genero</th>\n",
       "      <th>nota</th>\n",
       "    </tr>\n",
       "  </thead>\n",
       "  <tbody>\n",
       "    <tr>\n",
       "      <th>4181</th>\n",
       "      <td>6025</td>\n",
       "      <td>CB4 - The Movie (1993)</td>\n",
       "      <td>Comedy</td>\n",
       "      <td>3.75</td>\n",
       "    </tr>\n",
       "    <tr>\n",
       "      <th>8359</th>\n",
       "      <td>108949</td>\n",
       "      <td>Art of the Steal, The (2013)</td>\n",
       "      <td>Crime</td>\n",
       "      <td>3.75</td>\n",
       "    </tr>\n",
       "    <tr>\n",
       "      <th>7765</th>\n",
       "      <td>91485</td>\n",
       "      <td>Expendables 2, The (2012)</td>\n",
       "      <td>Action|Adventure</td>\n",
       "      <td>3.75</td>\n",
       "    </tr>\n",
       "    <tr>\n",
       "      <th>8379</th>\n",
       "      <td>109578</td>\n",
       "      <td>Non-Stop (2014)</td>\n",
       "      <td>Action|Mystery|Thriller</td>\n",
       "      <td>3.75</td>\n",
       "    </tr>\n",
       "    <tr>\n",
       "      <th>2946</th>\n",
       "      <td>3950</td>\n",
       "      <td>Tigerland (2000)</td>\n",
       "      <td>Drama</td>\n",
       "      <td>3.75</td>\n",
       "    </tr>\n",
       "    <tr>\n",
       "      <th>4923</th>\n",
       "      <td>7380</td>\n",
       "      <td>Ella Enchanted (2004)</td>\n",
       "      <td>Comedy|Fantasy|Romance</td>\n",
       "      <td>3.75</td>\n",
       "    </tr>\n",
       "    <tr>\n",
       "      <th>7734</th>\n",
       "      <td>90717</td>\n",
       "      <td>Tower Heist (2011)</td>\n",
       "      <td>Action|Comedy|Crime</td>\n",
       "      <td>3.75</td>\n",
       "    </tr>\n",
       "    <tr>\n",
       "      <th>1751</th>\n",
       "      <td>2349</td>\n",
       "      <td>Mona Lisa (1986)</td>\n",
       "      <td>Comedy|Thriller</td>\n",
       "      <td>3.75</td>\n",
       "    </tr>\n",
       "    <tr>\n",
       "      <th>7103</th>\n",
       "      <td>70599</td>\n",
       "      <td>Time Traveler's Wife, The (2009)</td>\n",
       "      <td>Drama|Romance|Sci-Fi</td>\n",
       "      <td>3.75</td>\n",
       "    </tr>\n",
       "    <tr>\n",
       "      <th>8744</th>\n",
       "      <td>127198</td>\n",
       "      <td>Dope (2015)</td>\n",
       "      <td>Comedy|Drama</td>\n",
       "      <td>3.75</td>\n",
       "    </tr>\n",
       "  </tbody>\n",
       "</table>\n",
       "</div>"
      ],
      "text/plain": [
       "      filmeId                            titulo                   genero  nota\n",
       "4181     6025            CB4 - The Movie (1993)                   Comedy  3.75\n",
       "8359   108949      Art of the Steal, The (2013)                    Crime  3.75\n",
       "7765    91485         Expendables 2, The (2012)         Action|Adventure  3.75\n",
       "8379   109578                   Non-Stop (2014)  Action|Mystery|Thriller  3.75\n",
       "2946     3950                  Tigerland (2000)                    Drama  3.75\n",
       "4923     7380             Ella Enchanted (2004)   Comedy|Fantasy|Romance  3.75\n",
       "7734    90717                Tower Heist (2011)      Action|Comedy|Crime  3.75\n",
       "1751     2349                  Mona Lisa (1986)          Comedy|Thriller  3.75\n",
       "7103    70599  Time Traveler's Wife, The (2009)     Drama|Romance|Sci-Fi  3.75\n",
       "8744   127198                       Dope (2015)             Comedy|Drama  3.75"
      ]
     },
     "execution_count": 17,
     "metadata": {},
     "output_type": "execute_result"
    }
   ],
   "source": [
    "# Imprimindo filmes entre as posições 2490 e 2500\n",
    "filmes_com_media.sort_values(\"nota\", ascending=False)[2490:2500]"
   ]
  },
  {
   "cell_type": "markdown",
   "metadata": {},
   "source": [
    "Podemos visualizar que a média desses filmes são extremamente próximas, porém podem conter poucas quantidade de votos, vamos plotar alguns gráficos para decobrir o que acontece por trás com esse dados.\n",
    "\n",
    "Dessa vez vamos criar uma função ``plot_filme`` que realize esta tarefa, para que não precisemos ficar realizando tarefas repetitivas e dando Copy/Paste nos códigos anteriores."
   ]
  },
  {
   "cell_type": "code",
   "execution_count": 18,
   "metadata": {},
   "outputs": [],
   "source": [
    "# Função gera gráfico dos filmes com demonstração das notas\n",
    "# e imprime a descrição do filme, como (nota média, nota maxima, etc)\n",
    "\n",
    "def plot_filme(n):\n",
    "  notas_do_filme = avaliacoes.query(f\"filmeId=={n}\")[\"nota\"]\n",
    "  notas_do_filme.plot(kind='hist')\n",
    "  return notas_do_filme.describe()"
   ]
  },
  {
   "cell_type": "markdown",
   "metadata": {},
   "source": [
    "#### Comparando outros filmes\n",
    "Vamos comparar os filmes ``Mona Lisa (1986)`` **filmeID= 2349** e ``Dope (2015)`` **filmeId=127198**"
   ]
  },
  {
   "cell_type": "code",
   "execution_count": 19,
   "metadata": {},
   "outputs": [
    {
     "data": {
      "text/plain": [
       "count    4.000000\n",
       "mean     3.750000\n",
       "std      1.258306\n",
       "min      2.000000\n",
       "25%      3.500000\n",
       "50%      4.000000\n",
       "75%      4.250000\n",
       "max      5.000000\n",
       "Name: nota, dtype: float64"
      ]
     },
     "execution_count": 19,
     "metadata": {},
     "output_type": "execute_result"
    },
    {
     "data": {
      "image/png": "[encoded data removed]",
      "text/plain": [
       "<Figure size 432x288 with 1 Axes>"
      ]
     },
     "metadata": {},
     "output_type": "display_data"
    }
   ],
   "source": [
    "# Pegando o filme 'Mona Lisa (1986)' a posicao 2349 e indice 1751\n",
    "plot_filme(2349)"
   ]
  },
  {
   "cell_type": "code",
   "execution_count": 20,
   "metadata": {},
   "outputs": [
    {
     "data": {
      "text/plain": [
       "count    2.000000\n",
       "mean     3.750000\n",
       "std      0.353553\n",
       "min      3.500000\n",
       "25%      3.625000\n",
       "50%      3.750000\n",
       "75%      3.875000\n",
       "max      4.000000\n",
       "Name: nota, dtype: float64"
      ]
     },
     "execution_count": 20,
     "metadata": {},
     "output_type": "execute_result"
    },
    {
     "data": {
      "image/png": "[encoded data removed]",
      "text/plain": [
       "<Figure size 432x288 with 1 Axes>"
      ]
     },
     "metadata": {},
     "output_type": "display_data"
    }
   ],
   "source": [
    "# Pegando o filme 'Dope (2015)' a posicao 127198 e indice 8744\n",
    "plot_filme(127198)"
   ]
  },
  {
   "cell_type": "markdown",
   "metadata": {},
   "source": [
    "---\n",
    "Com estas informações podemos comparar melhor ambos os filmes.\n",
    "\n",
    "Analisando os histogramas, vemos que no flime ``Mona Lisa`` as notas são bem variadas (2, 4, 5), no flime ``Dope`` as notas são mais altas indo de (3.5, 4), porém podemos supor que nos dois filmes houve uma quantidade bem pequena de votos, por isso a grande diferença das notas.\n",
    "\n",
    "O que confirma nossa análise é compara os valores de **25% 50% 75%**.\n",
    "\n",
    "**50%** é o valor da mediana, e ambos os flimes tem a mesma mediana, mas **25%** e **75%** são diferentes.\n",
    "\n",
    "Esses sistemas de medida são os [quartis](https://pt.wikipedia.org/wiki/Quartil)"
   ]
  },
  {
   "cell_type": "markdown",
   "metadata": {},
   "source": [
    "---\n",
    "## Utilizando o [Boxplot](https://pandas.pydata.org/pandas-docs/stable/reference/api/pandas.DataFrame.boxplot.html)\n",
    "Agora vamos adaptar nossa função criada anteriormente para conseguir plotar o boxplot e interpreta-lo"
   ]
  },
  {
   "cell_type": "code",
   "execution_count": 22,
   "metadata": {},
   "outputs": [
    {
     "data": {
      "image/png": "[encoded data removed]",
      "text/plain": [
       "<Figure size 432x288 with 1 Axes>"
      ]
     },
     "metadata": {},
     "output_type": "display_data"
    },
    {
     "name": "stdout",
     "output_type": "stream",
     "text": [
      "\n",
      "\n"
     ]
    },
    {
     "data": {
      "image/png": "[encoded data removed]",
      "text/plain": [
       "<Figure size 432x288 with 1 Axes>"
      ]
     },
     "metadata": {},
     "output_type": "display_data"
    },
    {
     "data": {
      "text/plain": [
       "count    4.000000\n",
       "mean     3.750000\n",
       "std      1.258306\n",
       "min      2.000000\n",
       "25%      3.500000\n",
       "50%      4.000000\n",
       "75%      4.250000\n",
       "max      5.000000\n",
       "Name: nota, dtype: float64"
      ]
     },
     "execution_count": 22,
     "metadata": {},
     "output_type": "execute_result"
    }
   ],
   "source": [
    "# Plotando gráfico boxplot do filme Mona Lisa\n",
    "\n",
    "def plot_filme(n):\n",
    "  notas_do_filme = avaliacoes.query(f\"filmeId=={n}\")[\"nota\"]\n",
    "  notas_do_filme.plot(kind='hist')\n",
    "  plt.show()\n",
    "  print('\\n')\n",
    "  notas_do_filme.plot.box()\n",
    "  plt.show()\n",
    "  return notas_do_filme.describe()\n",
    "\n",
    "plot_filme(2349)"
   ]
  },
  {
   "cell_type": "markdown",
   "metadata": {},
   "source": [
    "Simples não é mesmo?, nós apenas chamamos o método ``.plot.box()``, agora vamos interpretar o gráfico.\n",
    "\n",
    "Neste caso temos uma informação a mais, no caso temos essa bolinha localizada em y=2. \n",
    "\n",
    "A \"bolinha\" chamamos de valor discrepante, por ir além dos limites inferior e superior (chamamos na aula de outliers, existem várias formas de calcular os outliers, mas no nosso caso esses são os outliers do boxplot).\n",
    "\n",
    "#### Interpretando as informações do gráfico\n",
    "Compare o desenho com as estatísticas geradas pelo ``.describe()``\n",
    "\n",
    "**<p style=\"color: green\">A linha verde</p>**(Que divide a caixa em dois) - Representa a mediana, o valor de **50%**\n",
    "\n",
    "**A linha superior da caixa** - Representa o valor dos **75%**, é o 3º Quartil\n",
    "\n",
    "**A linha inferior da caixa** - Representa o valor dos **25%**, é o 1º Quartil\n"
   ]
  },
  {
   "cell_type": "markdown",
   "metadata": {},
   "source": [
    "---\n",
    "Agora repare nos limites inferior e superior, represetados pelas extremidades em preto.\n",
    "\n",
    "Por coincidência, nesta imagem os limites inferior e superior são equivalentes ao ponto de máximo e mínimo, mas nem sempre será assim, pois esse limite superir e inferior são calculados e dependem de Q1 e Q3. \n",
    "\n",
    "Algumas vezes os limites podem sobrepor os extremos das \"caixas\" e isso geralmente ocorre quando temos uma quantidade pequena de dados.\n",
    "\n",
    "Como tivemos sobreposição do limite superior vamos calcular o boxplot de outro filme, para analisar o resultado."
   ]
  },
  {
   "cell_type": "code",
   "execution_count": 25,
   "metadata": {},
   "outputs": [
    {
     "data": {
      "image/png": "[encoded data removed]",
      "text/plain": [
       "<Figure size 432x288 with 1 Axes>"
      ]
     },
     "metadata": {},
     "output_type": "display_data"
    },
    {
     "name": "stdout",
     "output_type": "stream",
     "text": [
      "\n",
      "\n"
     ]
    },
    {
     "data": {
      "image/png": "[encoded data removed]",
      "text/plain": [
       "<Figure size 432x288 with 1 Axes>"
      ]
     },
     "metadata": {},
     "output_type": "display_data"
    },
    {
     "data": {
      "text/plain": [
       "count    2.000000\n",
       "mean     3.750000\n",
       "std      0.353553\n",
       "min      3.500000\n",
       "25%      3.625000\n",
       "50%      3.750000\n",
       "75%      3.875000\n",
       "max      4.000000\n",
       "Name: nota, dtype: float64"
      ]
     },
     "execution_count": 25,
     "metadata": {},
     "output_type": "execute_result"
    }
   ],
   "source": [
    "# Plotando gráfico com informações do filme TigerLand\n",
    "\n",
    "plot_filme(127198)"
   ]
  },
  {
   "cell_type": "markdown",
   "metadata": {},
   "source": [
    "Olha que legal, diferente do primeiro boxplot, neste os limites superiores não se sobrepõe."
   ]
  },
  {
   "cell_type": "markdown",
   "metadata": {},
   "source": [
    "---\n",
    "## Plotando as informações dos filmes juntas\n",
    "\n",
    "Estamos comparando os boxplot dos filmes, mas eles estão em imagens separadas, vamos juntas vários boxplot em uma imagem só. Veja como podemos fazer isso usando o seaborn, para aprendermos outra forma de plotar boxplot!"
   ]
  },
  {
   "cell_type": "code",
   "execution_count": 30,
   "metadata": {},
   "outputs": [
    {
     "data": {
      "text/plain": [
       "<matplotlib.axes._subplots.AxesSubplot at 0xec6c4b0>"
      ]
     },
     "execution_count": 30,
     "metadata": {},
     "output_type": "execute_result"
    },
    {
     "data": {
      "image/png": "[encoded data removed]",
      "text/plain": [
       "<Figure size 432x288 with 1 Axes>"
      ]
     },
     "metadata": {},
     "output_type": "display_data"
    }
   ],
   "source": [
    "# Plotando informações dos filmes (Mona lisa, TigerLand, Toy Story e Jumanji)\n",
    "sns.boxplot(data = avaliacoes.query(\"filmeId in [1,2,2349,127198]\"), x =\"filmeId\", y=\"nota\")"
   ]
  },
  {
   "cell_type": "markdown",
   "metadata": {},
   "source": [
    "Chamamos o ``sns.boxplot()`` passando três parâmetros. \n",
    "\n",
    "Parâmetro dados é um dataframe das notas dos filmes com Toy Story, Jumanji, Mona Lisa e TigerLand (usamos o .query() para selecionar os dados), x é o Id do filme e y as respectivas notas. "
   ]
  },
  {
   "cell_type": "code",
   "execution_count": null,
   "metadata": {},
   "outputs": [],
   "source": []
  }
 ],
 "metadata": {
  "kernelspec": {
   "display_name": "Python 3",
   "language": "python",
   "name": "python3"
  },
  "language_info": {
   "codemirror_mode": {
    "name": "ipython",
    "version": 3
   },
   "file_extension": ".py",
   "mimetype": "text/x-python",
   "name": "python",
   "nbconvert_exporter": "python",
   "pygments_lexer": "ipython3",
   "version": "3.7.2"
  }
 },
 "nbformat": 4,
 "nbformat_minor": 2
}
